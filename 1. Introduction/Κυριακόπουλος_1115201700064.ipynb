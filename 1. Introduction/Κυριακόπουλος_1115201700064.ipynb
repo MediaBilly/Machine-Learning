{
  "nbformat": 4,
  "nbformat_minor": 0,
  "metadata": {
    "colab": {
      "name": "HW1.ipynb",
      "provenance": [],
      "collapsed_sections": []
    },
    "kernelspec": {
      "name": "python3",
      "display_name": "Python 3"
    },
    "language_info": {
      "name": "python"
    }
  },
  "cells": [
    {
      "cell_type": "markdown",
      "metadata": {
        "id": "h9qYFtBMc7_c"
      },
      "source": [
        "**Εισαγωγή απαραίτητων βιβλιοθηκών**"
      ]
    },
    {
      "cell_type": "code",
      "metadata": {
        "id": "eOha-7-vdEMr"
      },
      "source": [
        "import numpy as np\n",
        "import matplotlib.pyplot as plt"
      ],
      "execution_count": 1,
      "outputs": []
    },
    {
      "cell_type": "markdown",
      "metadata": {
        "id": "nY1dOwyeczGE"
      },
      "source": [
        "**Ερώτημα 1:**\n",
        "Πράξεις με Διανύσματα και Πίνακες"
      ]
    },
    {
      "cell_type": "markdown",
      "metadata": {
        "id": "khGXpp1RepC7"
      },
      "source": [
        "Ορισμός seed:"
      ]
    },
    {
      "cell_type": "code",
      "metadata": {
        "id": "C6l6vrcCe2FT"
      },
      "source": [
        "np.random.seed(64)"
      ],
      "execution_count": 2,
      "outputs": []
    },
    {
      "cell_type": "markdown",
      "metadata": {
        "id": "kmrLFGhKdVZ6"
      },
      "source": [
        "Δημιουργία Πινάκων και διανυσμάτων:\n",
        "\n",
        "1.   $Χ  \\in {\\mathbb{Z}}^{3x4}$ και $Y  \\in {\\mathbb{Z}}^{4x3}$\n",
        "2.   $a  \\in {\\mathbb{Z}}^{4}$ και $b  \\in {\\mathbb{Z}}^{4}$\n",
        "\n"
      ]
    },
    {
      "cell_type": "code",
      "metadata": {
        "id": "5qIjjjnodVNC",
        "colab": {
          "base_uri": "https://localhost:8080/"
        },
        "outputId": "6adf435e-ee7f-4120-e65e-470f2c9215b5"
      },
      "source": [
        "X = np.random.randint(low=0,high=10,size=(3,4))\n",
        "print(X)"
      ],
      "execution_count": 3,
      "outputs": [
        {
          "output_type": "stream",
          "text": [
            "[[4 6 7 6]\n",
            " [6 1 4 3]\n",
            " [5 0 8 6]]\n"
          ],
          "name": "stdout"
        }
      ]
    },
    {
      "cell_type": "code",
      "metadata": {
        "colab": {
          "base_uri": "https://localhost:8080/"
        },
        "id": "1f0tNFq_B9Ob",
        "outputId": "0885a4ef-b18c-4769-c203-9badbc02b280"
      },
      "source": [
        "Y = np.random.randint(low=0,high=10,size=(4,3))\n",
        "print(Y)"
      ],
      "execution_count": 4,
      "outputs": [
        {
          "output_type": "stream",
          "text": [
            "[[8 2 0]\n",
            " [1 4 2]\n",
            " [6 4 5]\n",
            " [0 5 9]]\n"
          ],
          "name": "stdout"
        }
      ]
    },
    {
      "cell_type": "code",
      "metadata": {
        "colab": {
          "base_uri": "https://localhost:8080/"
        },
        "id": "9TRqT1rvHSDU",
        "outputId": "07ddd8ec-80ee-4a4d-efac-32f8351111ca"
      },
      "source": [
        "a = np.random.randint(low=0,high=10,size=(4,))\n",
        "print(a)"
      ],
      "execution_count": 5,
      "outputs": [
        {
          "output_type": "stream",
          "text": [
            "[6 2 6 2]\n"
          ],
          "name": "stdout"
        }
      ]
    },
    {
      "cell_type": "code",
      "metadata": {
        "colab": {
          "base_uri": "https://localhost:8080/"
        },
        "id": "LB_SPIcfHkMz",
        "outputId": "587b73be-8d3f-40f8-8473-b588bbbf013e"
      },
      "source": [
        "b = np.random.randint(low=0,high=10,size=(4,))\n",
        "print(b)"
      ],
      "execution_count": 6,
      "outputs": [
        {
          "output_type": "stream",
          "text": [
            "[3 8 8 7]\n"
          ],
          "name": "stdout"
        }
      ]
    },
    {
      "cell_type": "markdown",
      "metadata": {
        "id": "pRUzScwzDQwF"
      },
      "source": [
        "Εκτέλεση Ζητούμενων πράξεων:"
      ]
    },
    {
      "cell_type": "markdown",
      "metadata": {
        "id": "SDIFUlQvDkw7"
      },
      "source": [
        "1.1 Εσωτερικό γινόμενο των $a$ και $b$ (${a}^{T}b$) : \\\\\n",
        "\\\n",
        "$a \\cdot b = {a}^{T}b = 6 \\cdot 3 + 2 \\cdot 8 + 6 \\cdot 8 + 2 \\cdot 7 = 96$"
      ]
    },
    {
      "cell_type": "markdown",
      "metadata": {
        "id": "Ff6eVnMJD_yK"
      },
      "source": [
        "Επαλήθευση:"
      ]
    },
    {
      "cell_type": "code",
      "metadata": {
        "id": "QUzvsfvtDhBM",
        "colab": {
          "base_uri": "https://localhost:8080/"
        },
        "outputId": "b82e82f5-ce60-493e-d615-d3a1c81b4d21"
      },
      "source": [
        "print(np.inner(a,b))"
      ],
      "execution_count": 7,
      "outputs": [
        {
          "output_type": "stream",
          "text": [
            "96\n"
          ],
          "name": "stdout"
        }
      ]
    },
    {
      "cell_type": "markdown",
      "metadata": {
        "id": "8DQFmwpeEKJD"
      },
      "source": [
        "1.2 Γινόμενο πίνακα-διανύσματος $Xa \\in \\mathbb{Z}^{3x3}$ : \\\\\n",
        "\\\n",
        "$Xa = \n",
        "\\begin{bmatrix}\n",
        "4 & 6 & 7 & 6\\\\\n",
        "6 & 1 & 4 & 3\\\\\n",
        "5 & 0 & 8 & 6\\\\\n",
        "\\end{bmatrix} \\cdot \n",
        "\\begin{bmatrix}\n",
        "6\\\\\n",
        "2\\\\\n",
        "6\\\\\n",
        "2\\\\\n",
        "\\end{bmatrix} = \n",
        "\\begin{bmatrix}\n",
        "4 \\cdot 6 + 6 \\cdot 2 + 7 \\cdot 6 + 6 \\cdot 2\\\\\n",
        "6 \\cdot 6 + 1 \\cdot 2 + 4 \\cdot 6 + 3 \\cdot 2\\\\\n",
        "5 \\cdot 6 + 0 \\cdot 2 + 8 \\cdot 6 + 6 \\cdot 2\\\\\n",
        "\\end{bmatrix} = \n",
        "\\begin{bmatrix}\n",
        "90\\\\\n",
        "68\\\\\n",
        "90\\\\\n",
        "\\end{bmatrix}$"
      ]
    },
    {
      "cell_type": "markdown",
      "metadata": {
        "id": "4-vJ14pgEGmL"
      },
      "source": [
        "Επαλήθευση:"
      ]
    },
    {
      "cell_type": "code",
      "metadata": {
        "id": "dS39U128EI9B",
        "colab": {
          "base_uri": "https://localhost:8080/"
        },
        "outputId": "9131eda5-23c0-4dad-e32d-c282b730c593"
      },
      "source": [
        "print(X.dot(a))"
      ],
      "execution_count": 8,
      "outputs": [
        {
          "output_type": "stream",
          "text": [
            "[90 68 90]\n"
          ],
          "name": "stdout"
        }
      ]
    },
    {
      "cell_type": "markdown",
      "metadata": {
        "id": "F9G2czZ9M6cW"
      },
      "source": [
        ""
      ]
    },
    {
      "cell_type": "markdown",
      "metadata": {
        "id": "hDV-fpf5EzRH"
      },
      "source": [
        "1.3 Γινόμενο πινάκων $XY \\in \\mathbb{Z}^{3x3}$ : \\\\\n",
        "\\\n",
        "$XY = \n",
        "\\begin{bmatrix}\n",
        "4 & 6 & 7 & 6\\\\\n",
        "6 & 1 & 4 & 3\\\\\n",
        "5 & 0 & 8 & 6\\\\\n",
        "\\end{bmatrix} \\cdot \n",
        "\\begin{bmatrix}\n",
        "8 & 2 & 0 \\\\\n",
        "1 & 4 & 2 \\\\\n",
        "6 & 4 & 5 \\\\\n",
        "0 & 5 & 9 \\\\\n",
        "\\end{bmatrix} =\n",
        "\\begin{bmatrix}\n",
        "4 \\cdot 8 + 6 \\cdot 1 + 7 \\cdot 6 + 6 \\cdot 0 & 4 \\cdot 2 + 6 \\cdot 4 + 7 \\cdot 4 + 6 \\cdot 5 & 4 \\cdot 0 + 6 \\cdot 2 + 7 \\cdot 5 + 6 \\cdot 9 \\\\\n",
        "6 \\cdot 8 + 1 \\cdot 1 + 4 \\cdot 6 + 3 \\cdot 0 & 6 \\cdot 2 + 1 \\cdot 4 + 4 \\cdot 4 + 3 \\cdot 5 & 6 \\cdot 0 + 1 \\cdot 2 + 4 \\cdot 5 + 3 \\cdot 9 \\\\\n",
        "5 \\cdot 8 + 0 \\cdot 1 + 8 \\cdot 6 + 6 \\cdot 0 & 5 \\cdot 2 + 0 \\cdot 4 + 8 \\cdot 4 + 6 \\cdot 5 & 5 \\cdot 0 + 0 \\cdot 2 + 8 \\cdot 5 + 6 \\cdot 9 \\\\\n",
        "\\end{bmatrix} = \n",
        "\\begin{bmatrix}\n",
        "80 & 90 & 101 \\\\\n",
        "73 & 47 & 49 \\\\\n",
        "88 & 72 & 94 \\\\\n",
        "\\end{bmatrix}\n",
        "$"
      ]
    },
    {
      "cell_type": "markdown",
      "metadata": {
        "id": "xu8rZMIWFNUk"
      },
      "source": [
        "Επαλήθευση:"
      ]
    },
    {
      "cell_type": "code",
      "metadata": {
        "id": "cdHM21GLFCIE",
        "colab": {
          "base_uri": "https://localhost:8080/"
        },
        "outputId": "6a0b9b34-4f47-40f1-de7e-8169903ca36c"
      },
      "source": [
        "print(X.dot(Y))"
      ],
      "execution_count": 9,
      "outputs": [
        {
          "output_type": "stream",
          "text": [
            "[[ 80  90 101]\n",
            " [ 73  47  49]\n",
            " [ 88  72  94]]\n"
          ],
          "name": "stdout"
        }
      ]
    },
    {
      "cell_type": "markdown",
      "metadata": {
        "id": "YYAs3auWFooC"
      },
      "source": [
        "1.4 Ευκλείδεια νόρμα (l2-norm) του διανύσματος $a$ : \\\\\n",
        "\\\n",
        "$\\lvert\\lvert a\\rvert\\rvert_{2} = \\sqrt{6^2+2^2+6^2+2^2} = \\sqrt{80} = \n",
        "4\\sqrt{5} \\simeq 8.94$"
      ]
    },
    {
      "cell_type": "markdown",
      "metadata": {
        "id": "rAHbK1rUFw6p"
      },
      "source": [
        "Επαλήθευση:"
      ]
    },
    {
      "cell_type": "code",
      "metadata": {
        "id": "-PzwxnIiFs8H",
        "colab": {
          "base_uri": "https://localhost:8080/"
        },
        "outputId": "2fc90785-d9ce-4063-e47e-4d5d6af66e2c"
      },
      "source": [
        "print(np.linalg.norm(a))"
      ],
      "execution_count": 10,
      "outputs": [
        {
          "output_type": "stream",
          "text": [
            "8.94427190999916\n"
          ],
          "name": "stdout"
        }
      ]
    },
    {
      "cell_type": "markdown",
      "metadata": {
        "id": "MALzhRemF9p6"
      },
      "source": [
        "1.5 Frobenius νόρμα του πίνακα $X$ : \\\\\n",
        "\\\n",
        "$\\lvert\\lvert X\\rvert\\rvert_{F} = \\sqrt{\\sum_{i}\\sum_{j}{x}_{ij}^2} = \n",
        "\\sqrt{4^2+6^2+5^2+6^2+1^2+0^2+7^2+4^2+8^2+6^2+3^2+6^2} = \\sqrt{324} = 18$"
      ]
    },
    {
      "cell_type": "markdown",
      "metadata": {
        "id": "jk4pOFKCGBHB"
      },
      "source": [
        "Επαλήθευση:"
      ]
    },
    {
      "cell_type": "code",
      "metadata": {
        "id": "sbaYeuq8F_oB",
        "colab": {
          "base_uri": "https://localhost:8080/"
        },
        "outputId": "4527a126-111d-4a67-bee3-9af2211f21ac"
      },
      "source": [
        "print(np.linalg.norm(X,ord='fro'))"
      ],
      "execution_count": 11,
      "outputs": [
        {
          "output_type": "stream",
          "text": [
            "18.0\n"
          ],
          "name": "stdout"
        }
      ]
    },
    {
      "cell_type": "markdown",
      "metadata": {
        "id": "kslNNKpdYOHC"
      },
      "source": [
        "**Ερώτημα 2:** Υπολογισμός παραγώγων"
      ]
    },
    {
      "cell_type": "markdown",
      "metadata": {
        "id": "zuaEMbWkYWB3"
      },
      "source": [
        "2.1 Χρησιμοποιώντας τις εξής ιδιότητες: \\\\\n",
        "\n",
        "*   $\\nabla_x(f(x)+g(x)) = \\nabla_xf(x) + \\nabla_xg(x)$\n",
        "*   $\\frac{\\partial\\mathbf{x}^T\\mathbf{A}\\mathbf{x}}{\\partial\\mathbf{x}} = (\\mathbf{A} + \\mathbf{A}^T)\\mathbf{x}$\n",
        "*   $\\frac{\\partial\\mathbf{b}^T\\mathbf{x}}{\\partial\\mathbf{x}} = \\mathbf{b}$\n",
        "\n",
        "έχουμε: \\\\\n",
        "$\\nabla_xf(x) = \\nabla_x(\\mathbf{x}^T\\mathbf{A}\\mathbf{x} + \\mathbf{b}^T\\mathbf{x}) = \\frac{\\partial\\mathbf{x}^T\\mathbf{A}\\mathbf{x}}{\\partial\\mathbf{x}} + \\frac{\\partial\\mathbf{b}^T\\mathbf{x}}{\\partial\\mathbf{x}} = (\\mathbf{A} + \\mathbf{A}^T)\\mathbf{x} + \\mathbf{b}$\n",
        "\n"
      ]
    },
    {
      "cell_type": "markdown",
      "metadata": {
        "id": "dPhOFOC7b61m"
      },
      "source": [
        "2.2 Έστω $f(X) = \\lvert\\lvert A - XB\\rvert\\rvert_{F}^{2} = Tr((A - XB)(A - XB)^T) = Tr((A - XB)(A^T - (XB)^T)) = Tr((A - XB)(A^T - B^TX^T)) = \n",
        "Tr((A - XB)A^T - (A - XB)B^TX^T) = Tr(AA^T - XBA^T - AB^TX^T + XBB^TX^T) = \n",
        "Tr(AA^T) - Tr(XBA^T) - Tr(AB^TX^T) + Tr(XBB^TX^T)$. \\\\\n",
        "\\\n",
        "Η παράγωγος της $f$ είναι: \\\\\n",
        "$\\frac{\\partial f(X)}{\\partial X} = 0 - (BA^T)^T - AB^T + X(BB^T)^T + XBB^T = \n",
        "- AB^T - AB^T + XBB^T + XBB^T = - 2AB^T + 2XBB^T = -2(A - XB)B^T$ \\\\\n",
        "\\\n",
        "Επιπλέον, η $f$ είναι κυρτή, άρα το σημείο όπου μηδενίζεται η παράγωγος της $f$ είναι το ολικό της ελάχιστο. Επομένως το ολικό ελάχιστο της $f$ το οποίο είναι και η βέλτιστη λύση του ζητόυμενου προβλήματος βελτιστοποίησης είναι η λύση της παρακάτω εξίσωσης: \\\\\n",
        "$\\frac{\\partial f(X)}{\\partial X} = 0 \\iff 2XBB^T = 2AB^T \\iff XBB^T = AB^T \\iff X = AB^T(BB^T)^{-1}$"
      ]
    },
    {
      "cell_type": "markdown",
      "metadata": {
        "id": "Fxly_u6rEbT2"
      },
      "source": [
        "**Ερώτημα 3:**\n",
        "Gradient Descent"
      ]
    },
    {
      "cell_type": "markdown",
      "metadata": {
        "id": "d2-TwgwjEzJE"
      },
      "source": [
        "Έστω οι συναρτήσεις: \\\\\n",
        "$f_1(x_1,x_2) = (x_1 - 2)^2 + (x_2 - 3)^2$ \\\\\n",
        "\n",
        "$f_2(x_1,x_2) = (1 - (x_2 - 3))^2 + 20((x_1 + 3) - (x2 - 3)^2)^2$\n",
        "\n",
        "και υλοποιημένες σε python ως εξής:"
      ]
    },
    {
      "cell_type": "code",
      "metadata": {
        "id": "bJK7sGmbKN0t"
      },
      "source": [
        "def f1(x):\n",
        "  return (x[0]-2) ** 2 + (x[1]-3) ** 2\n",
        "\n",
        "def f2(x):\n",
        "  return (1 - (x[1]-3)) ** 2 + 20*((x[0]+3)-(x[1]-3) ** 2) ** 2"
      ],
      "execution_count": 12,
      "outputs": []
    },
    {
      "cell_type": "markdown",
      "metadata": {
        "id": "EPcSw-lBFvp3"
      },
      "source": [
        "Αρχικά βρίσκουμε τις μερικές παραγώγους τους: \\\\\n",
        "$\\frac{\\partial f_1(x_1,x_2)}{\\partial x_1} = 2(x_1 - 2)$, \\\\\n",
        "$\\frac{\\partial f_1(x_1,x_2)}{\\partial x_2} = 2(x_2 - 3)$, \\\\\n",
        "$\\frac{\\partial f_2(x_1,x_2)}{\\partial x_1} = 40(x_1 - (x_2 - 3)^2 + 3)$, \\\\\n",
        "$\\frac{\\partial f_2(x_1,x_2)}{\\partial x_2} = 2(x_2 - 2 - 40(x_1 - (x_2 - 3)^2 + 3)(x_2 - 3))$"
      ]
    },
    {
      "cell_type": "markdown",
      "metadata": {
        "id": "8ee46NFLFuVZ"
      },
      "source": [
        "Στη συνέχεια, βρίσκουμε τις κλήσεις τους, οι οποίες ορίζονται ως εξής: \\\\\n",
        "$\\nabla f_1(x_1,x_2) = [\\frac{\\partial f_1(x_1,x_2)}{\\partial x_1},\\frac{\\partial f_1(x_1,x_2)}{\\partial x_2}]$, \\\\\n",
        "$\\nabla f_2(x_1,x_2) = [\\frac{\\partial f_2(x_1,x_2)}{\\partial x_1},\\frac{\\partial f_2(x_1,x_2)}{\\partial x_2}]$"
      ]
    },
    {
      "cell_type": "code",
      "metadata": {
        "id": "N_a7FqPBEkfs"
      },
      "source": [
        "def gradf1(x):\n",
        "  return np.array([2*(x[0]-2),2*(x[1]-3)])\n",
        "\n",
        "def gradf2(x):\n",
        "  return np.array([40*(x[0]-(x[1]-3) ** 2 + 3),2*(x[1]-2-40*(x[0]-(x[1]-3) ** 2 + 3)*(x[1]-3))])"
      ],
      "execution_count": 13,
      "outputs": []
    },
    {
      "cell_type": "markdown",
      "metadata": {
        "id": "b5AY_aNJIsD7"
      },
      "source": [
        "Έπειτα ορίζουμε μια συνάρτηση η οποία για δεδομένο πλήθος επαναλήψεων εκτελεί τον αλγόριθμο gradient descent, του οποίου η εξίσωση βελτιστοποίησης είναι: \\\\\n",
        "$x_{n+1} = x_n - \\gamma\\nabla f(x_n), n \\geq 0 , x_0 = \\textbf{0}$ \\\\\n",
        "όπου $\\gamma$ το learning rate."
      ]
    },
    {
      "cell_type": "code",
      "metadata": {
        "id": "5fI4cBpDJxM2"
      },
      "source": [
        "def gradient_descent(f,grad,x,reps=10,learning_rate=0.5):\n",
        "  rep = []\n",
        "  fvalues = []\n",
        "  for i in range(reps):\n",
        "    rep.append(i+1)\n",
        "    fvalues.append(f(x))\n",
        "    print(\"Repetition \" + str(i+1) + \": x = \" + str(x) + \" f(x) = \" + str(fvalues[i]))\n",
        "    x -= learning_rate * grad(x)\n",
        "  return rep, fvalues"
      ],
      "execution_count": 14,
      "outputs": []
    },
    {
      "cell_type": "markdown",
      "metadata": {
        "id": "qVwnzXXtocwI"
      },
      "source": [
        "Τώρα θα τρέξουμε τον αλγόριθμο σε κάθε μία από τις 2 συναρτήσεις για $T = 10$ επαναλήψεις και learning rate = 0.5:"
      ]
    },
    {
      "cell_type": "code",
      "metadata": {
        "colab": {
          "base_uri": "https://localhost:8080/",
          "height": 466
        },
        "id": "CWwsSp84oYQx",
        "outputId": "d6350f32-f518-4e39-90b9-4b9956b1b24b"
      },
      "source": [
        "x = np.zeros((2,))\n",
        "rep, f1vals = gradient_descent(f1,gradf1,x)\n",
        "plt.plot(rep, f1vals)\n",
        "plt.xlabel(\"Repetitions\")\n",
        "plt.ylabel(\"f1(x)\")"
      ],
      "execution_count": 15,
      "outputs": [
        {
          "output_type": "stream",
          "text": [
            "Repetition 1: x = [0. 0.] f(x) = 13.0\n",
            "Repetition 2: x = [2. 3.] f(x) = 0.0\n",
            "Repetition 3: x = [2. 3.] f(x) = 0.0\n",
            "Repetition 4: x = [2. 3.] f(x) = 0.0\n",
            "Repetition 5: x = [2. 3.] f(x) = 0.0\n",
            "Repetition 6: x = [2. 3.] f(x) = 0.0\n",
            "Repetition 7: x = [2. 3.] f(x) = 0.0\n",
            "Repetition 8: x = [2. 3.] f(x) = 0.0\n",
            "Repetition 9: x = [2. 3.] f(x) = 0.0\n",
            "Repetition 10: x = [2. 3.] f(x) = 0.0\n"
          ],
          "name": "stdout"
        },
        {
          "output_type": "execute_result",
          "data": {
            "text/plain": [
              "Text(0, 0.5, 'f1(x)')"
            ]
          },
          "metadata": {
            "tags": []
          },
          "execution_count": 15
        },
        {
          "output_type": "display_data",
          "data": {
            "image/png": "[encoded data removed]",
            "text/plain": [
              "<Figure size 432x288 with 1 Axes>"
            ]
          },
          "metadata": {
            "tags": [],
            "needs_background": "light"
          }
        }
      ]
    },
    {
      "cell_type": "code",
      "metadata": {
        "colab": {
          "base_uri": "https://localhost:8080/",
          "height": 545
        },
        "id": "yVlV0p2mpqFt",
        "outputId": "15ecf095-16fc-47e9-c96b-46c570656c9c"
      },
      "source": [
        "x = np.zeros((2,))\n",
        "rep, f1vals = gradient_descent(f2,gradf2,x)\n",
        "plt.plot(rep, f1vals)\n",
        "plt.xlabel(\"Repetitions\")\n",
        "plt.ylabel(\"f2(x)\")"
      ],
      "execution_count": 16,
      "outputs": [
        {
          "output_type": "stream",
          "text": [
            "Repetition 1: x = [0. 0.] f(x) = 736.0\n",
            "Repetition 2: x = [120. 722.] f(x) = 5342430880404.0\n",
            "Repetition 3: x = [ 1.03368800e+07 -1.48642609e+10] f(x) = 9.763449213775449e+41\n",
            "Repetition 4: x = [4.41892503e+21 1.31368109e+32] f(x) = 5.956481381541801e+129\n",
            "Repetition 5: x = [ 3.45151601e+65 -9.06838262e+97] f(x) = inf\n",
            "Repetition 6: x = [1.64471127e+197 2.98297422e+295] f(x) = inf\n",
            "Repetition 7: x = [ inf -inf] f(x) = nan\n",
            "Repetition 8: x = [nan nan] f(x) = nan\n",
            "Repetition 9: x = [nan nan] f(x) = nan\n",
            "Repetition 10: x = [nan nan] f(x) = nan\n"
          ],
          "name": "stdout"
        },
        {
          "output_type": "stream",
          "text": [
            "/usr/local/lib/python3.7/dist-packages/ipykernel_launcher.py:5: RuntimeWarning: overflow encountered in double_scalars\n",
            "  \"\"\"\n",
            "/usr/local/lib/python3.7/dist-packages/ipykernel_launcher.py:5: RuntimeWarning: invalid value encountered in double_scalars\n",
            "  \"\"\"\n"
          ],
          "name": "stderr"
        },
        {
          "output_type": "execute_result",
          "data": {
            "text/plain": [
              "Text(0, 0.5, 'f2(x)')"
            ]
          },
          "metadata": {
            "tags": []
          },
          "execution_count": 16
        },
        {
          "output_type": "display_data",
          "data": {
            "image/png": "[encoded data removed]",
            "text/plain": [
              "<Figure size 432x288 with 1 Axes>"
            ]
          },
          "metadata": {
            "tags": [],
            "needs_background": "light"
          }
        }
      ]
    },
    {
      "cell_type": "markdown",
      "metadata": {
        "id": "l4mJLdYUp4R6"
      },
      "source": [
        "Παρατηρούμε ότι στην $f_2(x)$, μετά από κάθε επανάληψη οι τιμές της αντί να προσεγγίζουν το ολικό ελάχιστο, αυξάνονται αστραπιαία με αποτέλεσμα πρίν ολοκληρωθούν και οι 10 επαναλήψεις, οι μεταβλητές να υπερχειλίζουν. Αυτό συμβαίνει λόγω της υψηλής τιμής που λαμβάνει η κλήση της συνάρτησης σε κάθε επανάληψη σε συνδυασμό με το learning rate. "
      ]
    },
    {
      "cell_type": "markdown",
      "metadata": {
        "id": "nKQokr5KqmDj"
      },
      "source": [
        "Ας δοκιμάσουμε λοιπόν να μειώσουμε το learning rate σε μία ικανοποιητική τιμή:"
      ]
    },
    {
      "cell_type": "code",
      "metadata": {
        "colab": {
          "base_uri": "https://localhost:8080/",
          "height": 466
        },
        "id": "z9FHPRy0oat4",
        "outputId": "80783a2d-5c1f-4576-f7a1-7c886ab19321"
      },
      "source": [
        "x = np.zeros((2,))\n",
        "rep, f2vals = gradient_descent(f2,gradf2,x,learning_rate=0.0039)\n",
        "plt.plot(rep, f2vals)\n",
        "plt.xlabel(\"Repetitions\")\n",
        "plt.ylabel(\"f2(x)\")"
      ],
      "execution_count": 17,
      "outputs": [
        {
          "output_type": "stream",
          "text": [
            "Repetition 1: x = [0. 0.] f(x) = 736.0\n",
            "Repetition 2: x = [0.936  5.6316] f(x) = 181.38262762320926\n",
            "Repetition 3: x = [1.4023337  3.14886601] f(x) = 384.44267006396916\n",
            "Repetition 4: x = [0.71902677 3.34334722] f(x) = 259.7953006913609\n",
            "Repetition 5: x = [0.15724901 3.71863877] f(x) = 139.55643183756615\n",
            "Repetition 6: x = [-0.25471693  4.29734278] f(x) = 22.653142689376573\n",
            "Repetition 7: x = [-0.42041776  4.70936505] f(x) = 2.8472229131832183\n",
            "Repetition 8: x = [-0.36701168  4.50565105] f(x) = 2.934850214699717\n",
            "Repetition 9: x = [-0.42410819  4.65804179] f(x) = 1.0330584764783448\n",
            "Repetition 10: x = [-0.39708731  4.54770557] f(x) = 1.161273830920475\n"
          ],
          "name": "stdout"
        },
        {
          "output_type": "execute_result",
          "data": {
            "text/plain": [
              "Text(0, 0.5, 'f2(x)')"
            ]
          },
          "metadata": {
            "tags": []
          },
          "execution_count": 17
        },
        {
          "output_type": "display_data",
          "data": {
            "image/png": "[encoded data removed]",
            "text/plain": [
              "<Figure size 432x288 with 1 Axes>"
            ]
          },
          "metadata": {
            "tags": [],
            "needs_background": "light"
          }
        }
      ]
    },
    {
      "cell_type": "markdown",
      "metadata": {
        "id": "9pdcjiafrKSP"
      },
      "source": [
        "Παρατηρούμε ότι η σύγκλιση ομαλοποιήθηκε σε ικανοποιητικό βαθμό, όμως απέχει ακόμα από το ολικό ελάχιστο που είναι το $(-2,4)$."
      ]
    },
    {
      "cell_type": "markdown",
      "metadata": {
        "id": "ECwmvOHrri1G"
      },
      "source": [
        "Ας δοκιμάσουμε να αυξήσουμε το πλήθος των επαναλήψεων σε 250 και το learning rate σε $0.0039$:"
      ]
    },
    {
      "cell_type": "code",
      "metadata": {
        "colab": {
          "base_uri": "https://localhost:8080/",
          "height": 1000
        },
        "id": "GlEKkeFTriMc",
        "outputId": "44d73fea-00fa-4570-8c00-db44737ccc12"
      },
      "source": [
        "x = np.zeros((2,))\n",
        "rep, f2vals = gradient_descent(f2,gradf2,x,learning_rate=0.0039,reps=250)\n",
        "plt.plot(rep, f2vals)\n",
        "plt.xlabel(\"Repetitions\")\n",
        "plt.ylabel(\"f2(x)\")"
      ],
      "execution_count": 18,
      "outputs": [
        {
          "output_type": "stream",
          "text": [
            "Repetition 1: x = [0. 0.] f(x) = 736.0\n",
            "Repetition 2: x = [0.936  5.6316] f(x) = 181.38262762320926\n",
            "Repetition 3: x = [1.4023337  3.14886601] f(x) = 384.44267006396916\n",
            "Repetition 4: x = [0.71902677 3.34334722] f(x) = 259.7953006913609\n",
            "Repetition 5: x = [0.15724901 3.71863877] f(x) = 139.55643183756615\n",
            "Repetition 6: x = [-0.25471693  4.29734278] f(x) = 22.653142689376573\n",
            "Repetition 7: x = [-0.42041776  4.70936505] f(x) = 2.8472229131832183\n",
            "Repetition 8: x = [-0.36701168  4.50565105] f(x) = 2.934850214699717\n",
            "Repetition 9: x = [-0.42410819  4.65804179] f(x) = 1.0330584764783448\n",
            "Repetition 10: x = [-0.39708731  4.54770557] f(x) = 1.161273830920475\n",
            "Repetition 11: x = [-0.42946045  4.62804166] f(x) = 0.5223726869218681\n",
            "Repetition 12: x = [-0.41698356  4.56691712] f(x) = 0.6479862804103788\n",
            "Repetition 13: x = [-0.43691835  4.60936753] f(x) = 0.38588955416159304\n",
            "Repetition 14: x = [-0.43270913  4.57546609] f(x) = 0.47633338101526873\n",
            "Repetition 15: x = [-0.44599994  4.59725588] f(x) = 0.3568684549588537\n",
            "Repetition 16: x = [-0.44643264  4.57837955] f(x) = 0.4121122246078391\n",
            "Repetition 17: x = [-0.45614915  4.58894089] f(x) = 0.35416109660899975\n",
            "Repetition 18: x = [-0.45913151  4.57822474] f(x) = 0.38449427633588446\n",
            "Repetition 19: x = [-0.46694324  4.5827719 ] f(x) = 0.3551799876529116\n",
            "Repetition 20: x = [-0.47129406  4.57639899] f(x) = 0.3703809507103901\n",
            "Repetition 21: x = [-0.47810692  4.57778264] f(x) = 0.35495130719518103\n",
            "Repetition 22: x = [-0.48317614  4.5736722 ] f(x) = 0.3617101386390386\n",
            "Repetition 23: x = [-0.48947537  4.5734234 ] f(x) = 0.353123592322017\n",
            "Repetition 24: x = [-0.49491407  4.57046544] f(x) = 0.3554221365875732\n",
            "Repetition 25: x = [-0.50095504  4.56939011] f(x) = 0.35021104272203535\n",
            "Repetition 26: x = [-0.50658035  4.56700546] f(x) = 0.3502439310008065\n",
            "Repetition 27: x = [-0.51249486  4.56551896] f(x) = 0.34668422747957106\n",
            "Repetition 28: x = [-0.51821312  4.563412  ] f(x) = 0.34560278072181266\n",
            "Repetition 29: x = [-0.52406777  4.56172384] f(x) = 0.34284102629937724\n",
            "Repetition 30: x = [-0.5298321  4.559747 ] f(x) = 0.34122789702272505\n",
            "Repetition 31: x = [-0.53565983  4.55796052] f(x) = 0.3388469552681679\n",
            "Repetition 32: x = [-0.5414473   4.55604174] f(x) = 0.3369885225493255\n",
            "Repetition 33: x = [-0.54726404  4.5542068 ] f(x) = 0.33478804201524276\n",
            "Repetition 34: x = [-0.55306368  4.55231167] f(x) = 0.3328214851136686\n",
            "Repetition 35: x = [-0.55887699  4.55045177] f(x) = 0.3307071625038413\n",
            "Repetition 36: x = [-0.56468367  4.5485642 ] f(x) = 0.32869663722081577\n",
            "Repetition 37: x = [-0.57049705  4.54669018] f(x) = 0.3266250490037931\n",
            "Repetition 38: x = [-0.57630843  4.54480281] f(x) = 0.3245998835268602\n",
            "Repetition 39: x = [-0.58212346  4.5429195 ] f(x) = 0.322551498752647\n",
            "Repetition 40: x = [-0.58793851  4.54102903] f(x) = 0.32052481519127946\n",
            "Repetition 41: x = [-0.59375591  4.53913857] f(x) = 0.3184910722119507\n",
            "Repetition 42: x = [-0.59957417  4.53724352] f(x) = 0.3164686317879349\n",
            "Repetition 43: x = [-0.60539425  4.53534677] f(x) = 0.31444588972411747\n",
            "Repetition 44: x = [-0.61121555  4.5334465 ] f(x) = 0.31243018994946836\n",
            "Repetition 45: x = [-0.61703845  4.53154383] f(x) = 0.3104169641346977\n",
            "Repetition 46: x = [-0.62286272  4.52963803] f(x) = 0.3084090902026377\n",
            "Repetition 47: x = [-0.62868851  4.52772954] f(x) = 0.3064048188263256\n",
            "Repetition 48: x = [-0.63451572  4.52581807] f(x) = 0.3044052597762538\n",
            "Repetition 49: x = [-0.64034443  4.52390378] f(x) = 0.3024097669754147\n",
            "Repetition 50: x = [-0.64617459  4.52198655] f(x) = 0.3004187666863182\n",
            "Repetition 51: x = [-0.65200624  4.52006643] f(x) = 0.2984320345410408\n",
            "Repetition 52: x = [-0.65783936  4.51814338] f(x) = 0.2964497389675763\n",
            "Repetition 53: x = [-0.66367397  4.5162174 ] f(x) = 0.29447181307333303\n",
            "Repetition 54: x = [-0.66951006  4.51428846] f(x) = 0.29249833048569474\n",
            "Repetition 55: x = [-0.67534764  4.51235658] f(x) = 0.2905292818282319\n",
            "Repetition 56: x = [-0.68118671  4.51042171] f(x) = 0.28856470685150026\n",
            "Repetition 57: x = [-0.68702728  4.50848386] f(x) = 0.2866046168095725\n",
            "Repetition 58: x = [-0.69286935  4.50654302] f(x) = 0.2846490397845709\n",
            "Repetition 59: x = [-0.69871292  4.50459916] f(x) = 0.2826979943897951\n",
            "Repetition 60: x = [-0.70455799  4.50265228] f(x) = 0.2807515049356241\n",
            "Repetition 61: x = [-0.71040458  4.50070237] f(x) = 0.2788095927420796\n",
            "Repetition 62: x = [-0.71625268  4.4987494 ] f(x) = 0.27687228108780115\n",
            "Repetition 63: x = [-0.7221023   4.49679338] f(x) = 0.27493959241282695\n",
            "Repetition 64: x = [-0.72795343  4.49483428] f(x) = 0.2730115498936032\n",
            "Repetition 65: x = [-0.73380609  4.49287208] f(x) = 0.27108817656605144\n",
            "Repetition 66: x = [-0.73966028  4.49090679] f(x) = 0.26916949581484956\n",
            "Repetition 67: x = [-0.745516    4.48893838] f(x) = 0.26725553110646133\n",
            "Repetition 68: x = [-0.75137326  4.48696684] f(x) = 0.26534630613809423\n",
            "Repetition 69: x = [-0.75723205  4.48499216] f(x) = 0.2634418447594765\n",
            "Repetition 70: x = [-0.76309238  4.48301432] f(x) = 0.2615421710179327\n",
            "Repetition 71: x = [-0.76895426  4.48103331] f(x) = 0.2596473091370439\n",
            "Repetition 72: x = [-0.77481769  4.47904911] f(x) = 0.2577572835309213\n",
            "Repetition 73: x = [-0.78068267  4.47706172] f(x) = 0.25587211879953947\n",
            "Repetition 74: x = [-0.78654921  4.47507111] f(x) = 0.2539918397341506\n",
            "Repetition 75: x = [-0.7924173   4.47307728] f(x) = 0.25211647131741877\n",
            "Repetition 76: x = [-0.79828696  4.4710802 ] f(x) = 0.25024603872635814\n",
            "Repetition 77: x = [-0.80415819  4.46907987] f(x) = 0.24838056733385022\n",
            "Repetition 78: x = [-0.81003099  4.46707627] f(x) = 0.24652008271094028\n",
            "Repetition 79: x = [-0.81590536  4.46506938] f(x) = 0.2446646106287753\n",
            "Repetition 80: x = [-0.82178131  4.46305919] f(x) = 0.24281417706075023\n",
            "Repetition 81: x = [-0.82765885  4.46104569] f(x) = 0.24096880818459898\n",
            "Repetition 82: x = [-0.83353797  4.45902885] f(x) = 0.23912853038456183\n",
            "Repetition 83: x = [-0.83941867  4.45700867] f(x) = 0.23729337025355215\n",
            "Repetition 84: x = [-0.84530097  4.45498513] f(x) = 0.23546335459534407\n",
            "Repetition 85: x = [-0.85118487  4.45295821] f(x) = 0.2336385104268377\n",
            "Repetition 86: x = [-0.85707037  4.45092791] f(x) = 0.23181886498028875\n",
            "Repetition 87: x = [-0.86295747  4.44889419] f(x) = 0.23000444570561146\n",
            "Repetition 88: x = [-0.86884618  4.44685706] f(x) = 0.22819528027270852\n",
            "Repetition 89: x = [-0.87473651  4.44481648] f(x) = 0.2263913965738103\n",
            "Repetition 90: x = [-0.88062844  4.44277245] f(x) = 0.22459282272587114\n",
            "Repetition 91: x = [-0.886522    4.44072495] f(x) = 0.2227995870729718\n",
            "Repetition 92: x = [-0.89241718  4.43867396] f(x) = 0.22101171818877735\n",
            "Repetition 93: x = [-0.89831399  4.43661947] f(x) = 0.2192292448790144\n",
            "Repetition 94: x = [-0.90421243  4.43456146] f(x) = 0.21745219618398942\n",
            "Repetition 95: x = [-0.9101125   4.43249992] f(x) = 0.21568060138112705\n",
            "Repetition 96: x = [-0.91601421  4.43043482] f(x) = 0.21391448998757165\n",
            "Repetition 97: x = [-0.92191757  4.42836615] f(x) = 0.2121538917627729\n",
            "Repetition 98: x = [-0.92782257  4.4262939 ] f(x) = 0.21039883671118134\n",
            "Repetition 99: x = [-0.93372922  4.42421805] f(x) = 0.20864935508489824\n",
            "Repetition 100: x = [-0.93963752  4.42213857] f(x) = 0.2069054773864278\n",
            "Repetition 101: x = [-0.94554748  4.42005546] f(x) = 0.20516723437143125\n",
            "Repetition 102: x = [-0.9514591   4.41796869] f(x) = 0.20343465705152605\n",
            "Repetition 103: x = [-0.95737239  4.41587825] f(x) = 0.20170777669713785\n",
            "Repetition 104: x = [-0.96328735  4.41378412] f(x) = 0.19998662484035193\n",
            "Repetition 105: x = [-0.96920398  4.41168628] f(x) = 0.1982712332778772\n",
            "Repetition 106: x = [-0.97512229  4.40958471] f(x) = 0.1965616340739575\n",
            "Repetition 107: x = [-0.98104228  4.4074794 ] f(x) = 0.19485785956341178\n",
            "Repetition 108: x = [-0.98696395  4.40537033] f(x) = 0.19315994235465578\n",
            "Repetition 109: x = [-0.99288731  4.40325748] f(x) = 0.1914679153327854\n",
            "Repetition 110: x = [-0.99881237  4.40114083] f(x) = 0.18978181166272343\n",
            "Repetition 111: x = [-1.00473912  4.39902036] f(x) = 0.1881016647923661\n",
            "Repetition 112: x = [-1.01066758  4.39689606] f(x) = 0.18642750845583672\n",
            "Repetition 113: x = [-1.01659773  4.3947679 ] f(x) = 0.18475937667670367\n",
            "Repetition 114: x = [-1.0225296   4.39263586] f(x) = 0.18309730377133576\n",
            "Repetition 115: x = [-1.02846318  4.39049993] f(x) = 0.1814413243522143\n",
            "Repetition 116: x = [-1.03439847  4.38836009] f(x) = 0.1797914733313736\n",
            "Repetition 117: x = [-1.04033549  4.38621631] f(x) = 0.17814778592383756\n",
            "Repetition 118: x = [-1.04627423  4.38406858] f(x) = 0.17651029765111415\n",
            "Repetition 119: x = [-1.0522147   4.38191688] f(x) = 0.17487904434476606\n",
            "Repetition 120: x = [-1.0581569   4.37976119] f(x) = 0.17325406214999825\n",
            "Repetition 121: x = [-1.06410084  4.37760148] f(x) = 0.17163538752932453\n",
            "Repetition 122: x = [-1.07004652  4.37543774] f(x) = 0.17002305726627648\n",
            "Repetition 123: x = [-1.07599394  4.37326995] f(x) = 0.1684171084691478\n",
            "Repetition 124: x = [-1.08194311  4.37109808] f(x) = 0.16681757857484247\n",
            "Repetition 125: x = [-1.08789404  4.36892211] f(x) = 0.1652245053527186\n",
            "Repetition 126: x = [-1.09384672  4.36674203] f(x) = 0.1636379269085347\n",
            "Repetition 127: x = [-1.09980116  4.36455782] f(x) = 0.16205788168843996\n",
            "Repetition 128: x = [-1.10575737  4.36236944] f(x) = 0.16048440848300172\n",
            "Repetition 129: x = [-1.11171534  4.36017688] f(x) = 0.15891754643132786\n",
            "Repetition 130: x = [-1.11767509  4.35798012] f(x) = 0.15735733502523577\n",
            "Repetition 131: x = [-1.12363661  4.35577914] f(x) = 0.15580381411346778\n",
            "Repetition 132: x = [-1.12959992  4.35357391] f(x) = 0.154257023905988\n",
            "Repetition 133: x = [-1.135565    4.35136441] f(x) = 0.15271700497834506\n",
            "Repetition 134: x = [-1.14153188  4.34915062] f(x) = 0.1511837982760789\n",
            "Repetition 135: x = [-1.14750055  4.34693252] f(x) = 0.14965744511923113\n",
            "Repetition 136: x = [-1.15347102  4.34471008] f(x) = 0.14813798720686847\n",
            "Repetition 137: x = [-1.15944329  4.34248328] f(x) = 0.1466254666217271\n",
            "Repetition 138: x = [-1.16541736  4.3402521 ] f(x) = 0.14511992583491581\n",
            "Repetition 139: x = [-1.17139325  4.33801651] f(x) = 0.14362140771064089\n",
            "Repetition 140: x = [-1.17737094  4.3357765 ] f(x) = 0.1421299555110977\n",
            "Repetition 141: x = [-1.18335046  4.33353202] f(x) = 0.14064561290132854\n",
            "Repetition 142: x = [-1.18933179  4.33128308] f(x) = 0.13916842395425524\n",
            "Repetition 143: x = [-1.19531495  4.32902962] f(x) = 0.13769843315570413\n",
            "Repetition 144: x = [-1.20129994  4.32677165] f(x) = 0.13623568540957098\n",
            "Repetition 145: x = [-1.20728676  4.32450912] f(x) = 0.13478022604303214\n",
            "Repetition 146: x = [-1.21327542  4.32224201] f(x) = 0.13333210081185198\n",
            "Repetition 147: x = [-1.21926592  4.31997031] f(x) = 0.13189135590575418\n",
            "Repetition 148: x = [-1.22525826  4.31769398] f(x) = 0.13045803795389754\n",
            "Repetition 149: x = [-1.23125246  4.31541299] f(x) = 0.1290321940304306\n",
            "Repetition 150: x = [-1.23724851  4.31312733] f(x) = 0.12761387166012797\n",
            "Repetition 151: x = [-1.24324641  4.31083696] f(x) = 0.12620311882411245\n",
            "Repetition 152: x = [-1.24924618  4.30854187] f(x) = 0.1247999839656834\n",
            "Repetition 153: x = [-1.25524781  4.30624202] f(x) = 0.12340451599622254\n",
            "Repetition 154: x = [-1.26125131  4.30393738] f(x) = 0.1220167643011979\n",
            "Repetition 155: x = [-1.26725669  4.30162794] f(x) = 0.12063677874626286\n",
            "Repetition 156: x = [-1.27326394  4.29931365] f(x) = 0.11926460968345118\n",
            "Repetition 157: x = [-1.27927307  4.29699451] f(x) = 0.11790030795747655\n",
            "Repetition 158: x = [-1.28528409  4.29467047] f(x) = 0.11654392491212658\n",
            "Repetition 159: x = [-1.291297    4.29234151] f(x) = 0.11519551239675911\n",
            "Repetition 160: x = [-1.2973118  4.2900076] f(x) = 0.11385512277291693\n",
            "Repetition 161: x = [-1.3033285   4.28766872] f(x) = 0.11252280892102462\n",
            "Repetition 162: x = [-1.3093471   4.28532483] f(x) = 0.11119862424721173\n",
            "Repetition 163: x = [-1.31536761  4.2829759 ] f(x) = 0.10988262269025448\n",
            "Repetition 164: x = [-1.32139002  4.28062192] f(x) = 0.10857485872860725\n",
            "Repetition 165: x = [-1.32741435  4.27826284] f(x) = 0.1072753873875661\n",
            "Repetition 166: x = [-1.33344059  4.27589863] f(x) = 0.10598426424654142\n",
            "Repetition 167: x = [-1.33946876  4.27352928] f(x) = 0.10470154544646548\n",
            "Repetition 168: x = [-1.34549885  4.27115474] f(x) = 0.10342728769728708\n",
            "Repetition 169: x = [-1.35153087  4.26877499] f(x) = 0.10216154828564693\n",
            "Repetition 170: x = [-1.35756481  4.26638999] f(x) = 0.1009043850826173\n",
            "Repetition 171: x = [-1.3636007   4.26399972] f(x) = 0.09965585655161893\n",
            "Repetition 172: x = [-1.36963853  4.26160414] f(x) = 0.09841602175644738\n",
            "Repetition 173: x = [-1.37567829  4.25920322] f(x) = 0.09718494036943212\n",
            "Repetition 174: x = [-1.38172001  4.25679693] f(x) = 0.09596267267975522\n",
            "Repetition 175: x = [-1.38776368  4.25438524] f(x) = 0.09474927960187092\n",
            "Repetition 176: x = [-1.3938093   4.25196812] f(x) = 0.09354482268411879\n",
            "Repetition 177: x = [-1.39985688  4.24954552] f(x) = 0.09234936411742625\n",
            "Repetition 178: x = [-1.40590642  4.24711742] f(x) = 0.0911629667442103\n",
            "Repetition 179: x = [-1.41195793  4.24468379] f(x) = 0.08998569406740442\n",
            "Repetition 180: x = [-1.41801141  4.24224458] f(x) = 0.08881761025963204\n",
            "Repetition 181: x = [-1.42406686  4.23979978] f(x) = 0.08765878017256282\n",
            "Repetition 182: x = [-1.43012428  4.23734933] f(x) = 0.08650926934641101\n",
            "Repetition 183: x = [-1.43618369  4.23489321] f(x) = 0.0853691440196096\n",
            "Repetition 184: x = [-1.44224508  4.23243138] f(x) = 0.08423847113863653\n",
            "Repetition 185: x = [-1.44830846  4.22996381] f(x) = 0.08311731836803596\n",
            "Repetition 186: x = [-1.45437383  4.22749046] f(x) = 0.0820057541005817\n",
            "Repetition 187: x = [-1.46044119  4.22501129] f(x) = 0.08090384746765615\n",
            "Repetition 188: x = [-1.46651055  4.22252627] f(x) = 0.07981166834977417\n",
            "Repetition 189: x = [-1.47258191  4.22003536] f(x) = 0.07872928738731824\n",
            "Repetition 190: x = [-1.47865527  4.21753852] f(x) = 0.07765677599145389\n",
            "Repetition 191: x = [-1.48473064  4.21503571] f(x) = 0.07659420635524283\n",
            "Repetition 192: x = [-1.49080802  4.21252691] f(x) = 0.07554165146493524\n",
            "Repetition 193: x = [-1.49688742  4.21001206] f(x) = 0.07449918511149431\n",
            "Repetition 194: x = [-1.50296883  4.20749112] f(x) = 0.07346688190229843\n",
            "Repetition 195: x = [-1.50905226  4.20496407] f(x) = 0.07244481727307654\n",
            "Repetition 196: x = [-1.51513771  4.20243086] f(x) = 0.07143306750002539\n",
            "Repetition 197: x = [-1.52122519  4.19989145] f(x) = 0.07043170971219093\n",
            "Repetition 198: x = [-1.5273147  4.1973458] f(x) = 0.06944082190402376\n",
            "Repetition 199: x = [-1.53340624  4.19479386] f(x) = 0.06846048294821724\n",
            "Repetition 200: x = [-1.53949982  4.1922356 ] f(x) = 0.0674907726087203\n",
            "Repetition 201: x = [-1.54559543  4.18967098] f(x) = 0.06653177155403264\n",
            "Repetition 202: x = [-1.55169309  4.18709995] f(x) = 0.06558356137072936\n",
            "Repetition 203: x = [-1.55779278  4.18452247] f(x) = 0.06464622457722721\n",
            "Repetition 204: x = [-1.56389453  4.1819385 ] f(x) = 0.06371984463781427\n",
            "Repetition 205: x = [-1.56999832  4.17934799] f(x) = 0.06280450597692672\n",
            "Repetition 206: x = [-1.57610416  4.1767509 ] f(x) = 0.061900293993721114\n",
            "Repetition 207: x = [-1.58221205  4.17414718] f(x) = 0.06100729507686542\n",
            "Repetition 208: x = [-1.588322    4.17153679] f(x) = 0.06012559661966472\n",
            "Repetition 209: x = [-1.59443401  4.16891969] f(x) = 0.05925528703542206\n",
            "Repetition 210: x = [-1.60054808  4.16629583] f(x) = 0.058396455773127645\n",
            "Repetition 211: x = [-1.60666421  4.16366515] f(x) = 0.05754919333340075\n",
            "Repetition 212: x = [-1.61278241  4.16102763] f(x) = 0.056713591284777834\n",
            "Repetition 213: x = [-1.61890267  4.1583832 ] f(x) = 0.055889742280283566\n",
            "Repetition 214: x = [-1.625025    4.15573182] f(x) = 0.05507774007431165\n",
            "Repetition 215: x = [-1.6311494   4.15307344] f(x) = 0.05427767953985594\n",
            "Repetition 216: x = [-1.63727587  4.15040801] f(x) = 0.05348965668604232\n",
            "Repetition 217: x = [-1.64340441  4.14773548] f(x) = 0.05271376867601382\n",
            "Repetition 218: x = [-1.64953504  4.14505581] f(x) = 0.05195011384515957\n",
            "Repetition 219: x = [-1.65566773  4.14236893] f(x) = 0.051198791719685804\n",
            "Repetition 220: x = [-1.66180251  4.13967481] f(x) = 0.05045990303556373\n",
            "Repetition 221: x = [-1.66793936  4.13697339] f(x) = 0.04973354975783073\n",
            "Repetition 222: x = [-1.6740783   4.13426461] f(x) = 0.04901983510027695\n",
            "Repetition 223: x = [-1.68021932  4.13154842] f(x) = 0.04831886354552781\n",
            "Repetition 224: x = [-1.68636242  4.12882478] f(x) = 0.04763074086548358\n",
            "Repetition 225: x = [-1.6925076   4.12609361] f(x) = 0.04695557414220984\n",
            "Repetition 226: x = [-1.69865487  4.12335488] f(x) = 0.046293471789215807\n",
            "Repetition 227: x = [-1.70480423  4.12060853] f(x) = 0.04564454357315113\n",
            "Repetition 228: x = [-1.71095566  4.11785449] f(x) = 0.045008900635948666\n",
            "Repetition 229: x = [-1.71710919  4.11509272] f(x) = 0.04438665551739558\n",
            "Repetition 230: x = [-1.7232648   4.11232315] f(x) = 0.04377792217817502\n",
            "Repetition 231: x = [-1.7294225   4.10954572] f(x) = 0.043182816023353485\n",
            "Repetition 232: x = [-1.73558228  4.10676039] f(x) = 0.04260145392634747\n",
            "Repetition 233: x = [-1.74174415  4.10396708] f(x) = 0.04203395425338777\n",
            "Repetition 234: x = [-1.7479081   4.10116575] f(x) = 0.04148043688845271\n",
            "Repetition 235: x = [-1.75407414  4.09835632] f(x) = 0.0409410232587397\n",
            "Repetition 236: x = [-1.76024227  4.09553873] f(x) = 0.0404158363606332\n",
            "Repetition 237: x = [-1.76641247  4.09271294] f(x) = 0.039905000786225324\n",
            "Repetition 238: x = [-1.77258477  4.08987886] f(x) = 0.03940864275036799\n",
            "Repetition 239: x = [-1.77875914  4.08703644] f(x) = 0.03892689011828465\n",
            "Repetition 240: x = [-1.78493559  4.08418561] f(x) = 0.03845987243375639\n",
            "Repetition 241: x = [-1.79111412  4.08132631] f(x) = 0.03800772094789983\n",
            "Repetition 242: x = [-1.79729473  4.07845848] f(x) = 0.03757056864853181\n",
            "Repetition 243: x = [-1.80347741  4.07558203] f(x) = 0.03714855029015916\n",
            "Repetition 244: x = [-1.80966217  4.07269692] f(x) = 0.03674180242458583\n",
            "Repetition 245: x = [-1.815849    4.06980307] f(x) = 0.036350463432174844\n",
            "Repetition 246: x = [-1.82203789  4.0669004 ] f(x) = 0.035974673553772915\n",
            "Repetition 247: x = [-1.82822885  4.06398885] f(x) = 0.0356145749232888\n",
            "Repetition 248: x = [-1.83442188  4.06106836] f(x) = 0.03527031160099489\n",
            "Repetition 249: x = [-1.84061696  4.05813884] f(x) = 0.03494202960750907\n",
            "Repetition 250: x = [-1.8468141   4.05520022] f(x) = 0.03462987695852586\n"
          ],
          "name": "stdout"
        },
        {
          "output_type": "execute_result",
          "data": {
            "text/plain": [
              "Text(0, 0.5, 'f2(x)')"
            ]
          },
          "metadata": {
            "tags": []
          },
          "execution_count": 18
        },
        {
          "output_type": "display_data",
          "data": {
            "image/png": "[encoded data removed]",
            "text/plain": [
              "<Figure size 432x288 with 1 Axes>"
            ]
          },
          "metadata": {
            "tags": [],
            "needs_background": "light"
          }
        }
      ]
    },
    {
      "cell_type": "markdown",
      "metadata": {
        "id": "FY_KTgcFsHlc"
      },
      "source": [
        "Βρισκόμαστε πολύ πιο κοντά στο ολικό ελάχιστο. Ας αυξήσουμε κι άλλο το πλήθος των επαναλήψεων σε 300:"
      ]
    },
    {
      "cell_type": "code",
      "metadata": {
        "colab": {
          "base_uri": "https://localhost:8080/",
          "height": 1000
        },
        "id": "TUfP4me7sXqj",
        "outputId": "5c40ccd5-1989-4cd7-ef64-aafc6768368b"
      },
      "source": [
        "x = np.zeros((2,))\n",
        "rep, f2vals = gradient_descent(f2,gradf2,x,learning_rate=0.0039,reps=300)\n",
        "plt.plot(rep, f2vals)\n",
        "plt.xlabel(\"Repetitions\")\n",
        "plt.ylabel(\"f2(x)\")"
      ],
      "execution_count": 19,
      "outputs": [
        {
          "output_type": "stream",
          "text": [
            "Repetition 1: x = [0. 0.] f(x) = 736.0\n",
            "Repetition 2: x = [0.936  5.6316] f(x) = 181.38262762320926\n",
            "Repetition 3: x = [1.4023337  3.14886601] f(x) = 384.44267006396916\n",
            "Repetition 4: x = [0.71902677 3.34334722] f(x) = 259.7953006913609\n",
            "Repetition 5: x = [0.15724901 3.71863877] f(x) = 139.55643183756615\n",
            "Repetition 6: x = [-0.25471693  4.29734278] f(x) = 22.653142689376573\n",
            "Repetition 7: x = [-0.42041776  4.70936505] f(x) = 2.8472229131832183\n",
            "Repetition 8: x = [-0.36701168  4.50565105] f(x) = 2.934850214699717\n",
            "Repetition 9: x = [-0.42410819  4.65804179] f(x) = 1.0330584764783448\n",
            "Repetition 10: x = [-0.39708731  4.54770557] f(x) = 1.161273830920475\n",
            "Repetition 11: x = [-0.42946045  4.62804166] f(x) = 0.5223726869218681\n",
            "Repetition 12: x = [-0.41698356  4.56691712] f(x) = 0.6479862804103788\n",
            "Repetition 13: x = [-0.43691835  4.60936753] f(x) = 0.38588955416159304\n",
            "Repetition 14: x = [-0.43270913  4.57546609] f(x) = 0.47633338101526873\n",
            "Repetition 15: x = [-0.44599994  4.59725588] f(x) = 0.3568684549588537\n",
            "Repetition 16: x = [-0.44643264  4.57837955] f(x) = 0.4121122246078391\n",
            "Repetition 17: x = [-0.45614915  4.58894089] f(x) = 0.35416109660899975\n",
            "Repetition 18: x = [-0.45913151  4.57822474] f(x) = 0.38449427633588446\n",
            "Repetition 19: x = [-0.46694324  4.5827719 ] f(x) = 0.3551799876529116\n",
            "Repetition 20: x = [-0.47129406  4.57639899] f(x) = 0.3703809507103901\n",
            "Repetition 21: x = [-0.47810692  4.57778264] f(x) = 0.35495130719518103\n",
            "Repetition 22: x = [-0.48317614  4.5736722 ] f(x) = 0.3617101386390386\n",
            "Repetition 23: x = [-0.48947537  4.5734234 ] f(x) = 0.353123592322017\n",
            "Repetition 24: x = [-0.49491407  4.57046544] f(x) = 0.3554221365875732\n",
            "Repetition 25: x = [-0.50095504  4.56939011] f(x) = 0.35021104272203535\n",
            "Repetition 26: x = [-0.50658035  4.56700546] f(x) = 0.3502439310008065\n",
            "Repetition 27: x = [-0.51249486  4.56551896] f(x) = 0.34668422747957106\n",
            "Repetition 28: x = [-0.51821312  4.563412  ] f(x) = 0.34560278072181266\n",
            "Repetition 29: x = [-0.52406777  4.56172384] f(x) = 0.34284102629937724\n",
            "Repetition 30: x = [-0.5298321  4.559747 ] f(x) = 0.34122789702272505\n",
            "Repetition 31: x = [-0.53565983  4.55796052] f(x) = 0.3388469552681679\n",
            "Repetition 32: x = [-0.5414473   4.55604174] f(x) = 0.3369885225493255\n",
            "Repetition 33: x = [-0.54726404  4.5542068 ] f(x) = 0.33478804201524276\n",
            "Repetition 34: x = [-0.55306368  4.55231167] f(x) = 0.3328214851136686\n",
            "Repetition 35: x = [-0.55887699  4.55045177] f(x) = 0.3307071625038413\n",
            "Repetition 36: x = [-0.56468367  4.5485642 ] f(x) = 0.32869663722081577\n",
            "Repetition 37: x = [-0.57049705  4.54669018] f(x) = 0.3266250490037931\n",
            "Repetition 38: x = [-0.57630843  4.54480281] f(x) = 0.3245998835268602\n",
            "Repetition 39: x = [-0.58212346  4.5429195 ] f(x) = 0.322551498752647\n",
            "Repetition 40: x = [-0.58793851  4.54102903] f(x) = 0.32052481519127946\n",
            "Repetition 41: x = [-0.59375591  4.53913857] f(x) = 0.3184910722119507\n",
            "Repetition 42: x = [-0.59957417  4.53724352] f(x) = 0.3164686317879349\n",
            "Repetition 43: x = [-0.60539425  4.53534677] f(x) = 0.31444588972411747\n",
            "Repetition 44: x = [-0.61121555  4.5334465 ] f(x) = 0.31243018994946836\n",
            "Repetition 45: x = [-0.61703845  4.53154383] f(x) = 0.3104169641346977\n",
            "Repetition 46: x = [-0.62286272  4.52963803] f(x) = 0.3084090902026377\n",
            "Repetition 47: x = [-0.62868851  4.52772954] f(x) = 0.3064048188263256\n",
            "Repetition 48: x = [-0.63451572  4.52581807] f(x) = 0.3044052597762538\n",
            "Repetition 49: x = [-0.64034443  4.52390378] f(x) = 0.3024097669754147\n",
            "Repetition 50: x = [-0.64617459  4.52198655] f(x) = 0.3004187666863182\n",
            "Repetition 51: x = [-0.65200624  4.52006643] f(x) = 0.2984320345410408\n",
            "Repetition 52: x = [-0.65783936  4.51814338] f(x) = 0.2964497389675763\n",
            "Repetition 53: x = [-0.66367397  4.5162174 ] f(x) = 0.29447181307333303\n",
            "Repetition 54: x = [-0.66951006  4.51428846] f(x) = 0.29249833048569474\n",
            "Repetition 55: x = [-0.67534764  4.51235658] f(x) = 0.2905292818282319\n",
            "Repetition 56: x = [-0.68118671  4.51042171] f(x) = 0.28856470685150026\n",
            "Repetition 57: x = [-0.68702728  4.50848386] f(x) = 0.2866046168095725\n",
            "Repetition 58: x = [-0.69286935  4.50654302] f(x) = 0.2846490397845709\n",
            "Repetition 59: x = [-0.69871292  4.50459916] f(x) = 0.2826979943897951\n",
            "Repetition 60: x = [-0.70455799  4.50265228] f(x) = 0.2807515049356241\n",
            "Repetition 61: x = [-0.71040458  4.50070237] f(x) = 0.2788095927420796\n",
            "Repetition 62: x = [-0.71625268  4.4987494 ] f(x) = 0.27687228108780115\n",
            "Repetition 63: x = [-0.7221023   4.49679338] f(x) = 0.27493959241282695\n",
            "Repetition 64: x = [-0.72795343  4.49483428] f(x) = 0.2730115498936032\n",
            "Repetition 65: x = [-0.73380609  4.49287208] f(x) = 0.27108817656605144\n",
            "Repetition 66: x = [-0.73966028  4.49090679] f(x) = 0.26916949581484956\n",
            "Repetition 67: x = [-0.745516    4.48893838] f(x) = 0.26725553110646133\n",
            "Repetition 68: x = [-0.75137326  4.48696684] f(x) = 0.26534630613809423\n",
            "Repetition 69: x = [-0.75723205  4.48499216] f(x) = 0.2634418447594765\n",
            "Repetition 70: x = [-0.76309238  4.48301432] f(x) = 0.2615421710179327\n",
            "Repetition 71: x = [-0.76895426  4.48103331] f(x) = 0.2596473091370439\n",
            "Repetition 72: x = [-0.77481769  4.47904911] f(x) = 0.2577572835309213\n",
            "Repetition 73: x = [-0.78068267  4.47706172] f(x) = 0.25587211879953947\n",
            "Repetition 74: x = [-0.78654921  4.47507111] f(x) = 0.2539918397341506\n",
            "Repetition 75: x = [-0.7924173   4.47307728] f(x) = 0.25211647131741877\n",
            "Repetition 76: x = [-0.79828696  4.4710802 ] f(x) = 0.25024603872635814\n",
            "Repetition 77: x = [-0.80415819  4.46907987] f(x) = 0.24838056733385022\n",
            "Repetition 78: x = [-0.81003099  4.46707627] f(x) = 0.24652008271094028\n",
            "Repetition 79: x = [-0.81590536  4.46506938] f(x) = 0.2446646106287753\n",
            "Repetition 80: x = [-0.82178131  4.46305919] f(x) = 0.24281417706075023\n",
            "Repetition 81: x = [-0.82765885  4.46104569] f(x) = 0.24096880818459898\n",
            "Repetition 82: x = [-0.83353797  4.45902885] f(x) = 0.23912853038456183\n",
            "Repetition 83: x = [-0.83941867  4.45700867] f(x) = 0.23729337025355215\n",
            "Repetition 84: x = [-0.84530097  4.45498513] f(x) = 0.23546335459534407\n",
            "Repetition 85: x = [-0.85118487  4.45295821] f(x) = 0.2336385104268377\n",
            "Repetition 86: x = [-0.85707037  4.45092791] f(x) = 0.23181886498028875\n",
            "Repetition 87: x = [-0.86295747  4.44889419] f(x) = 0.23000444570561146\n",
            "Repetition 88: x = [-0.86884618  4.44685706] f(x) = 0.22819528027270852\n",
            "Repetition 89: x = [-0.87473651  4.44481648] f(x) = 0.2263913965738103\n",
            "Repetition 90: x = [-0.88062844  4.44277245] f(x) = 0.22459282272587114\n",
            "Repetition 91: x = [-0.886522    4.44072495] f(x) = 0.2227995870729718\n",
            "Repetition 92: x = [-0.89241718  4.43867396] f(x) = 0.22101171818877735\n",
            "Repetition 93: x = [-0.89831399  4.43661947] f(x) = 0.2192292448790144\n",
            "Repetition 94: x = [-0.90421243  4.43456146] f(x) = 0.21745219618398942\n",
            "Repetition 95: x = [-0.9101125   4.43249992] f(x) = 0.21568060138112705\n",
            "Repetition 96: x = [-0.91601421  4.43043482] f(x) = 0.21391448998757165\n",
            "Repetition 97: x = [-0.92191757  4.42836615] f(x) = 0.2121538917627729\n",
            "Repetition 98: x = [-0.92782257  4.4262939 ] f(x) = 0.21039883671118134\n",
            "Repetition 99: x = [-0.93372922  4.42421805] f(x) = 0.20864935508489824\n",
            "Repetition 100: x = [-0.93963752  4.42213857] f(x) = 0.2069054773864278\n",
            "Repetition 101: x = [-0.94554748  4.42005546] f(x) = 0.20516723437143125\n",
            "Repetition 102: x = [-0.9514591   4.41796869] f(x) = 0.20343465705152605\n",
            "Repetition 103: x = [-0.95737239  4.41587825] f(x) = 0.20170777669713785\n",
            "Repetition 104: x = [-0.96328735  4.41378412] f(x) = 0.19998662484035193\n",
            "Repetition 105: x = [-0.96920398  4.41168628] f(x) = 0.1982712332778772\n",
            "Repetition 106: x = [-0.97512229  4.40958471] f(x) = 0.1965616340739575\n",
            "Repetition 107: x = [-0.98104228  4.4074794 ] f(x) = 0.19485785956341178\n",
            "Repetition 108: x = [-0.98696395  4.40537033] f(x) = 0.19315994235465578\n",
            "Repetition 109: x = [-0.99288731  4.40325748] f(x) = 0.1914679153327854\n",
            "Repetition 110: x = [-0.99881237  4.40114083] f(x) = 0.18978181166272343\n",
            "Repetition 111: x = [-1.00473912  4.39902036] f(x) = 0.1881016647923661\n",
            "Repetition 112: x = [-1.01066758  4.39689606] f(x) = 0.18642750845583672\n",
            "Repetition 113: x = [-1.01659773  4.3947679 ] f(x) = 0.18475937667670367\n",
            "Repetition 114: x = [-1.0225296   4.39263586] f(x) = 0.18309730377133576\n",
            "Repetition 115: x = [-1.02846318  4.39049993] f(x) = 0.1814413243522143\n",
            "Repetition 116: x = [-1.03439847  4.38836009] f(x) = 0.1797914733313736\n",
            "Repetition 117: x = [-1.04033549  4.38621631] f(x) = 0.17814778592383756\n",
            "Repetition 118: x = [-1.04627423  4.38406858] f(x) = 0.17651029765111415\n",
            "Repetition 119: x = [-1.0522147   4.38191688] f(x) = 0.17487904434476606\n",
            "Repetition 120: x = [-1.0581569   4.37976119] f(x) = 0.17325406214999825\n",
            "Repetition 121: x = [-1.06410084  4.37760148] f(x) = 0.17163538752932453\n",
            "Repetition 122: x = [-1.07004652  4.37543774] f(x) = 0.17002305726627648\n",
            "Repetition 123: x = [-1.07599394  4.37326995] f(x) = 0.1684171084691478\n",
            "Repetition 124: x = [-1.08194311  4.37109808] f(x) = 0.16681757857484247\n",
            "Repetition 125: x = [-1.08789404  4.36892211] f(x) = 0.1652245053527186\n",
            "Repetition 126: x = [-1.09384672  4.36674203] f(x) = 0.1636379269085347\n",
            "Repetition 127: x = [-1.09980116  4.36455782] f(x) = 0.16205788168843996\n",
            "Repetition 128: x = [-1.10575737  4.36236944] f(x) = 0.16048440848300172\n",
            "Repetition 129: x = [-1.11171534  4.36017688] f(x) = 0.15891754643132786\n",
            "Repetition 130: x = [-1.11767509  4.35798012] f(x) = 0.15735733502523577\n",
            "Repetition 131: x = [-1.12363661  4.35577914] f(x) = 0.15580381411346778\n",
            "Repetition 132: x = [-1.12959992  4.35357391] f(x) = 0.154257023905988\n",
            "Repetition 133: x = [-1.135565    4.35136441] f(x) = 0.15271700497834506\n",
            "Repetition 134: x = [-1.14153188  4.34915062] f(x) = 0.1511837982760789\n",
            "Repetition 135: x = [-1.14750055  4.34693252] f(x) = 0.14965744511923113\n",
            "Repetition 136: x = [-1.15347102  4.34471008] f(x) = 0.14813798720686847\n",
            "Repetition 137: x = [-1.15944329  4.34248328] f(x) = 0.1466254666217271\n",
            "Repetition 138: x = [-1.16541736  4.3402521 ] f(x) = 0.14511992583491581\n",
            "Repetition 139: x = [-1.17139325  4.33801651] f(x) = 0.14362140771064089\n",
            "Repetition 140: x = [-1.17737094  4.3357765 ] f(x) = 0.1421299555110977\n",
            "Repetition 141: x = [-1.18335046  4.33353202] f(x) = 0.14064561290132854\n",
            "Repetition 142: x = [-1.18933179  4.33128308] f(x) = 0.13916842395425524\n",
            "Repetition 143: x = [-1.19531495  4.32902962] f(x) = 0.13769843315570413\n",
            "Repetition 144: x = [-1.20129994  4.32677165] f(x) = 0.13623568540957098\n",
            "Repetition 145: x = [-1.20728676  4.32450912] f(x) = 0.13478022604303214\n",
            "Repetition 146: x = [-1.21327542  4.32224201] f(x) = 0.13333210081185198\n",
            "Repetition 147: x = [-1.21926592  4.31997031] f(x) = 0.13189135590575418\n",
            "Repetition 148: x = [-1.22525826  4.31769398] f(x) = 0.13045803795389754\n",
            "Repetition 149: x = [-1.23125246  4.31541299] f(x) = 0.1290321940304306\n",
            "Repetition 150: x = [-1.23724851  4.31312733] f(x) = 0.12761387166012797\n",
            "Repetition 151: x = [-1.24324641  4.31083696] f(x) = 0.12620311882411245\n",
            "Repetition 152: x = [-1.24924618  4.30854187] f(x) = 0.1247999839656834\n",
            "Repetition 153: x = [-1.25524781  4.30624202] f(x) = 0.12340451599622254\n",
            "Repetition 154: x = [-1.26125131  4.30393738] f(x) = 0.1220167643011979\n",
            "Repetition 155: x = [-1.26725669  4.30162794] f(x) = 0.12063677874626286\n",
            "Repetition 156: x = [-1.27326394  4.29931365] f(x) = 0.11926460968345118\n",
            "Repetition 157: x = [-1.27927307  4.29699451] f(x) = 0.11790030795747655\n",
            "Repetition 158: x = [-1.28528409  4.29467047] f(x) = 0.11654392491212658\n",
            "Repetition 159: x = [-1.291297    4.29234151] f(x) = 0.11519551239675911\n",
            "Repetition 160: x = [-1.2973118  4.2900076] f(x) = 0.11385512277291693\n",
            "Repetition 161: x = [-1.3033285   4.28766872] f(x) = 0.11252280892102462\n",
            "Repetition 162: x = [-1.3093471   4.28532483] f(x) = 0.11119862424721173\n",
            "Repetition 163: x = [-1.31536761  4.2829759 ] f(x) = 0.10988262269025448\n",
            "Repetition 164: x = [-1.32139002  4.28062192] f(x) = 0.10857485872860725\n",
            "Repetition 165: x = [-1.32741435  4.27826284] f(x) = 0.1072753873875661\n",
            "Repetition 166: x = [-1.33344059  4.27589863] f(x) = 0.10598426424654142\n",
            "Repetition 167: x = [-1.33946876  4.27352928] f(x) = 0.10470154544646548\n",
            "Repetition 168: x = [-1.34549885  4.27115474] f(x) = 0.10342728769728708\n",
            "Repetition 169: x = [-1.35153087  4.26877499] f(x) = 0.10216154828564693\n",
            "Repetition 170: x = [-1.35756481  4.26638999] f(x) = 0.1009043850826173\n",
            "Repetition 171: x = [-1.3636007   4.26399972] f(x) = 0.09965585655161893\n",
            "Repetition 172: x = [-1.36963853  4.26160414] f(x) = 0.09841602175644738\n",
            "Repetition 173: x = [-1.37567829  4.25920322] f(x) = 0.09718494036943212\n",
            "Repetition 174: x = [-1.38172001  4.25679693] f(x) = 0.09596267267975522\n",
            "Repetition 175: x = [-1.38776368  4.25438524] f(x) = 0.09474927960187092\n",
            "Repetition 176: x = [-1.3938093   4.25196812] f(x) = 0.09354482268411879\n",
            "Repetition 177: x = [-1.39985688  4.24954552] f(x) = 0.09234936411742625\n",
            "Repetition 178: x = [-1.40590642  4.24711742] f(x) = 0.0911629667442103\n",
            "Repetition 179: x = [-1.41195793  4.24468379] f(x) = 0.08998569406740442\n",
            "Repetition 180: x = [-1.41801141  4.24224458] f(x) = 0.08881761025963204\n",
            "Repetition 181: x = [-1.42406686  4.23979978] f(x) = 0.08765878017256282\n",
            "Repetition 182: x = [-1.43012428  4.23734933] f(x) = 0.08650926934641101\n",
            "Repetition 183: x = [-1.43618369  4.23489321] f(x) = 0.0853691440196096\n",
            "Repetition 184: x = [-1.44224508  4.23243138] f(x) = 0.08423847113863653\n",
            "Repetition 185: x = [-1.44830846  4.22996381] f(x) = 0.08311731836803596\n",
            "Repetition 186: x = [-1.45437383  4.22749046] f(x) = 0.0820057541005817\n",
            "Repetition 187: x = [-1.46044119  4.22501129] f(x) = 0.08090384746765615\n",
            "Repetition 188: x = [-1.46651055  4.22252627] f(x) = 0.07981166834977417\n",
            "Repetition 189: x = [-1.47258191  4.22003536] f(x) = 0.07872928738731824\n",
            "Repetition 190: x = [-1.47865527  4.21753852] f(x) = 0.07765677599145389\n",
            "Repetition 191: x = [-1.48473064  4.21503571] f(x) = 0.07659420635524283\n",
            "Repetition 192: x = [-1.49080802  4.21252691] f(x) = 0.07554165146493524\n",
            "Repetition 193: x = [-1.49688742  4.21001206] f(x) = 0.07449918511149431\n",
            "Repetition 194: x = [-1.50296883  4.20749112] f(x) = 0.07346688190229843\n",
            "Repetition 195: x = [-1.50905226  4.20496407] f(x) = 0.07244481727307654\n",
            "Repetition 196: x = [-1.51513771  4.20243086] f(x) = 0.07143306750002539\n",
            "Repetition 197: x = [-1.52122519  4.19989145] f(x) = 0.07043170971219093\n",
            "Repetition 198: x = [-1.5273147  4.1973458] f(x) = 0.06944082190402376\n",
            "Repetition 199: x = [-1.53340624  4.19479386] f(x) = 0.06846048294821724\n",
            "Repetition 200: x = [-1.53949982  4.1922356 ] f(x) = 0.0674907726087203\n",
            "Repetition 201: x = [-1.54559543  4.18967098] f(x) = 0.06653177155403264\n",
            "Repetition 202: x = [-1.55169309  4.18709995] f(x) = 0.06558356137072936\n",
            "Repetition 203: x = [-1.55779278  4.18452247] f(x) = 0.06464622457722721\n",
            "Repetition 204: x = [-1.56389453  4.1819385 ] f(x) = 0.06371984463781427\n",
            "Repetition 205: x = [-1.56999832  4.17934799] f(x) = 0.06280450597692672\n",
            "Repetition 206: x = [-1.57610416  4.1767509 ] f(x) = 0.061900293993721114\n",
            "Repetition 207: x = [-1.58221205  4.17414718] f(x) = 0.06100729507686542\n",
            "Repetition 208: x = [-1.588322    4.17153679] f(x) = 0.06012559661966472\n",
            "Repetition 209: x = [-1.59443401  4.16891969] f(x) = 0.05925528703542206\n",
            "Repetition 210: x = [-1.60054808  4.16629583] f(x) = 0.058396455773127645\n",
            "Repetition 211: x = [-1.60666421  4.16366515] f(x) = 0.05754919333340075\n",
            "Repetition 212: x = [-1.61278241  4.16102763] f(x) = 0.056713591284777834\n",
            "Repetition 213: x = [-1.61890267  4.1583832 ] f(x) = 0.055889742280283566\n",
            "Repetition 214: x = [-1.625025    4.15573182] f(x) = 0.05507774007431165\n",
            "Repetition 215: x = [-1.6311494   4.15307344] f(x) = 0.05427767953985594\n",
            "Repetition 216: x = [-1.63727587  4.15040801] f(x) = 0.05348965668604232\n",
            "Repetition 217: x = [-1.64340441  4.14773548] f(x) = 0.05271376867601382\n",
            "Repetition 218: x = [-1.64953504  4.14505581] f(x) = 0.05195011384515957\n",
            "Repetition 219: x = [-1.65566773  4.14236893] f(x) = 0.051198791719685804\n",
            "Repetition 220: x = [-1.66180251  4.13967481] f(x) = 0.05045990303556373\n",
            "Repetition 221: x = [-1.66793936  4.13697339] f(x) = 0.04973354975783073\n",
            "Repetition 222: x = [-1.6740783   4.13426461] f(x) = 0.04901983510027695\n",
            "Repetition 223: x = [-1.68021932  4.13154842] f(x) = 0.04831886354552781\n",
            "Repetition 224: x = [-1.68636242  4.12882478] f(x) = 0.04763074086548358\n",
            "Repetition 225: x = [-1.6925076   4.12609361] f(x) = 0.04695557414220984\n",
            "Repetition 226: x = [-1.69865487  4.12335488] f(x) = 0.046293471789215807\n",
            "Repetition 227: x = [-1.70480423  4.12060853] f(x) = 0.04564454357315113\n",
            "Repetition 228: x = [-1.71095566  4.11785449] f(x) = 0.045008900635948666\n",
            "Repetition 229: x = [-1.71710919  4.11509272] f(x) = 0.04438665551739558\n",
            "Repetition 230: x = [-1.7232648   4.11232315] f(x) = 0.04377792217817502\n",
            "Repetition 231: x = [-1.7294225   4.10954572] f(x) = 0.043182816023353485\n",
            "Repetition 232: x = [-1.73558228  4.10676039] f(x) = 0.04260145392634747\n",
            "Repetition 233: x = [-1.74174415  4.10396708] f(x) = 0.04203395425338777\n",
            "Repetition 234: x = [-1.7479081   4.10116575] f(x) = 0.04148043688845271\n",
            "Repetition 235: x = [-1.75407414  4.09835632] f(x) = 0.0409410232587397\n",
            "Repetition 236: x = [-1.76024227  4.09553873] f(x) = 0.0404158363606332\n",
            "Repetition 237: x = [-1.76641247  4.09271294] f(x) = 0.039905000786225324\n",
            "Repetition 238: x = [-1.77258477  4.08987886] f(x) = 0.03940864275036799\n",
            "Repetition 239: x = [-1.77875914  4.08703644] f(x) = 0.03892689011828465\n",
            "Repetition 240: x = [-1.78493559  4.08418561] f(x) = 0.03845987243375639\n",
            "Repetition 241: x = [-1.79111412  4.08132631] f(x) = 0.03800772094789983\n",
            "Repetition 242: x = [-1.79729473  4.07845848] f(x) = 0.03757056864853181\n",
            "Repetition 243: x = [-1.80347741  4.07558203] f(x) = 0.03714855029015916\n",
            "Repetition 244: x = [-1.80966217  4.07269692] f(x) = 0.03674180242458583\n",
            "Repetition 245: x = [-1.815849    4.06980307] f(x) = 0.036350463432174844\n",
            "Repetition 246: x = [-1.82203789  4.0669004 ] f(x) = 0.035974673553772915\n",
            "Repetition 247: x = [-1.82822885  4.06398885] f(x) = 0.0356145749232888\n",
            "Repetition 248: x = [-1.83442188  4.06106836] f(x) = 0.03527031160099489\n",
            "Repetition 249: x = [-1.84061696  4.05813884] f(x) = 0.03494202960750907\n",
            "Repetition 250: x = [-1.8468141   4.05520022] f(x) = 0.03462987695852586\n",
            "Repetition 251: x = [-1.85301329  4.05225243] f(x) = 0.03433400370028106\n",
            "Repetition 252: x = [-1.85921453  4.0492954 ] f(x) = 0.03405456194577488\n",
            "Repetition 253: x = [-1.86541781  4.04632905] f(x) = 0.03379170591180129\n",
            "Repetition 254: x = [-1.87162313  4.0433533 ] f(x) = 0.03354559195674176\n",
            "Repetition 255: x = [-1.87783049  4.04036808] f(x) = 0.03331637861921246\n",
            "Repetition 256: x = [-1.88403988  4.03737331] f(x) = 0.03310422665753326\n",
            "Repetition 257: x = [-1.89025129  4.0343689 ] f(x) = 0.0329092990900766\n",
            "Repetition 258: x = [-1.89646472  4.03135478] f(x) = 0.032731761236483775\n",
            "Repetition 259: x = [-1.90268016  4.02833087] f(x) = 0.03257178075980016\n",
            "Repetition 260: x = [-1.90889762  4.02529708] f(x) = 0.0324295277095407\n",
            "Repetition 261: x = [-1.91511707  4.02225334] f(x) = 0.03230517456569274\n",
            "Repetition 262: x = [-1.92133851  4.01919954] f(x) = 0.03219889628371609\n",
            "Repetition 263: x = [-1.92756194  4.01613562] f(x) = 0.03211087034054146\n",
            "Repetition 264: x = [-1.93378735  4.01306148] f(x) = 0.032041276781578074\n",
            "Repetition 265: x = [-1.94001473  4.00997703] f(x) = 0.03199029826879998\n",
            "Repetition 266: x = [-1.94624407  4.00688219] f(x) = 0.031958120129905225\n",
            "Repetition 267: x = [-1.95247536  4.00377687] f(x) = 0.03194493040856888\n",
            "Repetition 268: x = [-1.95870859  4.00066096] f(x) = 0.03195091991585317\n",
            "Repetition 269: x = [-1.96494376  3.99753439] f(x) = 0.03197628228277366\n",
            "Repetition 270: x = [-1.97118086  3.99439706] f(x) = 0.03202121401406424\n",
            "Repetition 271: x = [-1.97741987  3.99124886] f(x) = 0.032085914543163355\n",
            "Repetition 272: x = [-1.98366078  3.98808971] f(x) = 0.032170586288471886\n",
            "Repetition 273: x = [-1.98990358  3.9849195 ] f(x) = 0.03227543471088662\n",
            "Repetition 274: x = [-1.99614826  3.98173814] f(x) = 0.03240066837267072\n",
            "Repetition 275: x = [-2.0023948   3.97854553] f(x) = 0.032546498997680445\n",
            "Repetition 276: x = [-2.0086432   3.97534156] f(x) = 0.03271314153298137\n",
            "Repetition 277: x = [-2.01489344  3.97212613] f(x) = 0.03290081421190016\n",
            "Repetition 278: x = [-2.02114551  3.96889914] f(x) = 0.03310973861855249\n",
            "Repetition 279: x = [-2.02739938  3.96566048] f(x) = 0.03334013975385466\n",
            "Repetition 280: x = [-2.03365505  3.96241004] f(x) = 0.03359224610311194\n",
            "Repetition 281: x = [-2.0399125   3.95914771] f(x) = 0.033866289705170624\n",
            "Repetition 282: x = [-2.04617172  3.95587338] f(x) = 0.03416250622321099\n",
            "Repetition 283: x = [-2.05243268  3.95258694] f(x) = 0.0344811350172034\n",
            "Repetition 284: x = [-2.05869537  3.94928827] f(x) = 0.03482241921808847\n",
            "Repetition 285: x = [-2.06495977  3.94597727] f(x) = 0.03518660580371128\n",
            "Repetition 286: x = [-2.07122586  3.9426538 ] f(x) = 0.03557394567657092\n",
            "Repetition 287: x = [-2.07749362  3.93931776] f(x) = 0.035984693743412\n",
            "Repetition 288: x = [-2.08376303  3.93596902] f(x) = 0.036419108996730495\n",
            "Repetition 289: x = [-2.09003407  3.93260745] f(x) = 0.03687745459823806\n",
            "Repetition 290: x = [-2.09630672  3.92923295] f(x) = 0.03735999796431361\n",
            "Repetition 291: x = [-2.10258094  3.92584537] f(x) = 0.03786701085353708\n",
            "Repetition 292: x = [-2.10885673  3.92244459] f(x) = 0.0383987694563189\n",
            "Repetition 293: x = [-2.11513405  3.91903049] f(x) = 0.03895555448671052\n",
            "Repetition 294: x = [-2.12141288  3.91560292] f(x) = 0.03953765127643905\n",
            "Repetition 295: x = [-2.12769319  3.91216176] f(x) = 0.040145349871218296\n",
            "Repetition 296: x = [-2.13397496  3.90870687] f(x) = 0.04077894512942764\n",
            "Repetition 297: x = [-2.14025815  3.90523812] f(x) = 0.04143873682317731\n",
            "Repetition 298: x = [-2.14654273  3.90175535] f(x) = 0.04212502974186257\n",
            "Repetition 299: x = [-2.15282868  3.89825844] f(x) = 0.042838133798245345\n",
            "Repetition 300: x = [-2.15911597  3.89474723] f(x) = 0.04357836413714751\n"
          ],
          "name": "stdout"
        },
        {
          "output_type": "execute_result",
          "data": {
            "text/plain": [
              "Text(0, 0.5, 'f2(x)')"
            ]
          },
          "metadata": {
            "tags": []
          },
          "execution_count": 19
        },
        {
          "output_type": "display_data",
          "data": {
            "image/png": "[encoded data removed]",
            "text/plain": [
              "<Figure size 432x288 with 1 Axes>"
            ]
          },
          "metadata": {
            "tags": [],
            "needs_background": "light"
          }
        }
      ]
    },
    {
      "cell_type": "markdown",
      "metadata": {
        "id": "WITLb37LslDz"
      },
      "source": [
        "Παρατηρόυμε ότι και το σφάλμα αυξήθηκε, το οποίο είναι αποτέλεσμα του οτι το $x$ \"χοροπηδάει\" στην περιοχή του ολικού ελαχίστου και δεν συγκλίνει ποτέ..."
      ]
    },
    {
      "cell_type": "markdown",
      "metadata": {
        "id": "L2NvrXq0tCsC"
      },
      "source": [
        "Ας δοκιμάσουμε να αλλάξουμε το learning rate σε $0.0038$ και τις επαναλήψεις σε 380:"
      ]
    },
    {
      "cell_type": "code",
      "metadata": {
        "colab": {
          "base_uri": "https://localhost:8080/",
          "height": 1000
        },
        "id": "tXSC26wktA8Z",
        "outputId": "70c4b7d5-086f-47ed-86e2-9c8c5950e6c7"
      },
      "source": [
        "x = np.zeros((2,))\n",
        "rep, f2vals = gradient_descent(f2,gradf2,x,learning_rate=0.0038,reps=380)\n",
        "plt.plot(rep, f2vals)\n",
        "plt.xlabel(\"Repetitions\")\n",
        "plt.ylabel(\"f2(x)\")"
      ],
      "execution_count": 20,
      "outputs": [
        {
          "output_type": "stream",
          "text": [
            "Repetition 1: x = [0. 0.] f(x) = 736.0\n",
            "Repetition 2: x = [0.912  5.4872] f(x) = 105.64818726327074\n",
            "Repetition 3: x = [1.2576729  3.74118199] f(x) = 275.10005226918986\n",
            "Repetition 4: x = [0.69400793 4.56350565] f(x) = 31.5404454526251\n",
            "Repetition 5: x = [0.50409032 5.13789755] f(x) = 24.043921491812537\n",
            "Repetition 6: x = [0.66620069 4.42089879] f(x) = 54.44562964475232\n",
            "Repetition 7: x = [0.4158191  5.11403376] f(x) = 23.430716992399756\n",
            "Repetition 8: x = [0.57592368 4.4134341 ] f(x) = 49.980670192600144\n",
            "Repetition 9: x = [0.33604827 5.07318818] f(x) = 19.662959185503396\n",
            "Repetition 10: x = [0.48228154 4.44349379] f(x) = 39.31873008782969\n",
            "Repetition 11: x = [0.26969324 5.03866301] f(x) = 16.794821452554164\n",
            "Repetition 12: x = [0.40443419 4.46618638] f(x) = 31.704361305675956\n",
            "Repetition 13: x = [0.21371498 5.0067032 ] f(x) = 14.237474199301284\n",
            "Repetition 14: x = [0.33731267 4.48780446] f(x) = 25.494259879901854\n",
            "Repetition 15: x = [0.16650259 4.97716116] f(x) = 11.985830357946503\n",
            "Repetition 16: x = [0.27938747 4.50815155] f(x) = 20.453346854469267\n",
            "Repetition 17: x = [0.12664778 4.94979879] f(x) = 10.016441864782328\n",
            "Repetition 18: x = [0.22925804 4.52724157] f(x) = 16.36267432742128\n",
            "Repetition 19: x = [0.09294578 4.92439806] f(x) = 8.30534973165458\n",
            "Repetition 20: x = [0.18572082 4.54510042] f(x) = 13.045522984559858\n",
            "Repetition 21: x = [0.06436622 4.90076774] f(x) = 6.8295633020224615\n",
            "Repetition 22: x = [0.14774609 4.56175037] f(x) = 10.360162983543365\n",
            "Repetition 23: x = [0.04002644 4.87874345] f(x) = 5.5673427177181285\n",
            "Repetition 24: x = [0.11445332 4.57720698] f(x) = 8.19252463765078\n",
            "Repetition 25: x = [0.01916886 4.85818685] f(x) = 4.498216257508064\n",
            "Repetition 26: x = [0.08508966 4.59147829] f(x) = 6.450254722690196\n",
            "Repetition 27: x = [1.14211130e-03 4.83898446e+00] f(x) = 3.602875928447153\n",
            "Repetition 28: x = [0.05901182 4.6045652 ] f(x) = 5.058023873616465\n",
            "Repetition 29: x = [-0.0146143   4.82104631] f(x) = 2.8630067682004974\n",
            "Repetition 30: x = [0.03567094 4.61646285] f(x) = 3.9538499668972538\n",
            "Repetition 31: x = [-0.02858231  4.80430374] f(x) = 2.2610958395844207\n",
            "Repetition 32: x = [0.01460002 4.62716294] f(x) = 3.086244067739073\n",
            "Repetition 33: x = [-0.04117498  4.78870653] f(x) = 1.7802680389408119\n",
            "Repetition 34: x = [-4.59678471e-03  4.63665705e+00] f(x) = 2.4120311601887607\n",
            "Repetition 35: x = [-0.05274384  4.77421888] f(x) = 1.4041937351668357\n",
            "Repetition 36: x = [-0.02225317  4.6449406 ] f(x) = 1.8947283457988588\n",
            "Repetition 37: x = [-0.0635846   4.76081452] f(x) = 1.1171023904291044\n",
            "Repetition 38: x = [-0.03864864  4.65201713] f(x) = 1.503377508312646\n",
            "Repetition 39: x = [-0.07394164  4.74847107] f(x) = 0.9039149914982875\n",
            "Repetition 40: x = [-0.05401554  4.65790229] f(x) = 1.2117320182572568\n",
            "Repetition 41: x = [-0.0840119   4.73716429] f(x) = 0.750479212620643\n",
            "Repetition 42: x = [-0.06854564  4.662627  ] f(x) = 0.9976953885860702\n",
            "Repetition 43: x = [-0.09394877  4.72686288] f(x) = 0.6438623033029762\n",
            "Repetition 44: x = [-0.08239614  4.66623909] f(x) = 0.8429122744915352\n",
            "Repetition 45: x = [-0.10386631  4.71752456] f(x) = 0.572637674810084\n",
            "Repetition 46: x = [-0.09569526  4.6688034 ] f(x) = 0.7324249428535738\n",
            "Repetition 47: x = [-0.11384405  4.70909403] f(x) = 0.527099838125101\n",
            "Repetition 48: x = [-0.10854739  4.67039993] f(x) = 0.6543323615787054\n",
            "Repetition 49: x = [-0.12393232  4.70150288] f(x) = 0.49936005458594085\n",
            "Repetition 50: x = [-0.12103758  4.67112062] f(x) = 0.5994197995328876\n",
            "Repetition 51: x = [-0.13415796  4.69467158] f(x) = 0.48330543015939764\n",
            "Repetition 52: x = [-0.13323536  4.67106508] f(x) = 0.56075640475944\n",
            "Repetition 53: x = [-0.14452989  4.68851279] f(x) = 0.4744361207500727\n",
            "Repetition 54: x = [-0.14519788  4.67033591] f(x) = 0.5332793554260925\n",
            "Repetition 55: x = [-0.15504445  4.68293551] f(x) = 0.4696183916131235\n",
            "Repetition 56: x = [-0.15697236  4.66903429] f(x) = 0.5133923125521479\n",
            "Repetition 57: x = [-0.16568989  4.67784934] f(x) = 0.46680016254468293\n",
            "Repetition 58: x = [-0.16859791  4.66725612] f(x) = 0.49860405044156214\n",
            "Repetition 59: x = [-0.1764501   4.67316819] f(x) = 0.4647312694964026\n",
            "Repetition 60: x = [-0.18010693  4.66508911] f(x) = 0.4872243946339814\n",
            "Repetition 61: x = [-0.18730737  4.66881319] f(x) = 0.46271806735593257\n",
            "Repetition 62: x = [-0.19152616  4.66261094] f(x) = 0.4781237747446771\n",
            "Repetition 63: x = [-0.19824436  4.66471461] f(x) = 0.4604272139346087\n",
            "Repetition 64: x = [-0.20287746  4.65988835] f(x) = 0.47055346464728204\n",
            "Repetition 65: x = [-0.20924523  4.66081277] f(x) = 0.457740995707112\n",
            "Repetition 66: x = [-0.2141785   4.65697707] f(x) = 0.46401770610820736\n",
            "Repetition 67: x = [-0.22029627  4.65705806] f(x) = 0.45465842812255663\n",
            "Repetition 68: x = [-0.22544334  4.65392241] f(x) = 0.45818650899081415\n",
            "Repetition 69: x = [-0.23138613  4.65341043] f(x) = 0.45123258927829313\n",
            "Repetition 70: x = [-0.236683   4.6507603] f(x) = 0.4528381418747728\n",
            "Repetition 71: x = [-0.24250573  4.64983838] f(x) = 0.44753411101939966\n",
            "Repetition 72: x = [-0.24790592  4.6475185 ] f(x) = 0.44782204000654396\n",
            "Repetition 73: x = [-0.25364801  4.64631774] f(x) = 0.4436320754955174\n",
            "Repetition 74: x = [-0.25911847  4.64421797] f(x) = 0.4430350919439531\n",
            "Repetition 75: x = [-0.26480765  4.64283041] f(x) = 0.4395856079142719\n",
            "Repetition 76: x = [-0.27032534  4.64087416] f(x) = 0.4384063884691674\n",
            "Repetition 77: x = [-0.27598075  4.63936315] f(x) = 0.43544149068454974\n",
            "Repetition 78: x = [-0.28152992  4.63749821] f(x) = 0.4338872233476413\n",
            "Repetition 79: x = [-0.28716452  4.6359065 ] f(x) = 0.4312347995625296\n",
            "Repetition 80: x = [-0.29273462  4.63409794] f(x) = 0.4294443574575897\n",
            "Repetition 81: x = [-0.29835699  4.63245381] f(x) = 0.4269907853405605\n",
            "Repetition 82: x = [-0.3039411   4.63067876] f(x) = 0.425055357416718\n",
            "Repetition 83: x = [-0.30955684  4.62900055] f(x) = 0.42272703912314064\n",
            "Repetition 84: x = [-0.3151505   4.62724428] f(x) = 0.4207053057668405\n",
            "Repetition 85: x = [-0.32076318  4.62554364] f(x) = 0.41845548054057685\n",
            "Repetition 86: x = [-0.32636358  4.62379688] f(x) = 0.41638445849869654\n",
            "Repetition 87: x = [-0.33197543  4.62208106] f(x) = 0.41418399380542015\n",
            "Repetition 88: x = [-0.33758083  4.62033805] f(x) = 0.4120865801490543\n",
            "Repetition 89: x = [-0.34319324  4.61861149] f(x) = 0.40991768519509125\n",
            "Repetition 90: x = [-0.34880259  4.61686875] f(x) = 0.40780777262948564\n",
            "Repetition 91: x = [-0.35441638  4.61513408] f(x) = 0.4056598033777791\n",
            "Repetition 92: x = [-0.36002906  4.61338952] f(x) = 0.40354566462289343\n",
            "Repetition 93: x = [-0.36564473  4.61164829] f(x) = 0.40141238739113433\n",
            "Repetition 94: x = [-0.37126038  4.60990067] f(x) = 0.3992988616044813\n",
            "Repetition 95: x = [-0.37687822  4.60815375] f(x) = 0.3971767081108705\n",
            "Repetition 96: x = [-0.38249664  4.60640235] f(x) = 0.39506658083041246\n",
            "Repetition 97: x = [-0.38811682  4.60465022] f(x) = 0.3929535603150223\n",
            "Repetition 98: x = [-0.39373791  4.60289464] f(x) = 0.3908484146368992\n",
            "Repetition 99: x = [-0.39936052  4.60113755] f(x) = 0.3887434507173408\n",
            "Repetition 100: x = [-0.40498422  4.59937754] f(x) = 0.38664418054118566\n",
            "Repetition 101: x = [-0.41060932  4.5976156 ] f(x) = 0.3845467159355423\n",
            "Repetition 102: x = [-0.41623561  4.59585102] f(x) = 0.38245382855459437\n",
            "Repetition 103: x = [-0.42186325  4.59408428] f(x) = 0.3803635946786648\n",
            "Repetition 104: x = [-0.42749212  4.59231504] f(x) = 0.3782773852268587\n",
            "Repetition 105: x = [-0.43312231  4.59054351] f(x) = 0.376194270858577\n",
            "Repetition 106: x = [-0.43875376  4.58876952] f(x) = 0.37411492066386687\n",
            "Repetition 107: x = [-0.44438652  4.58699319] f(x) = 0.3720388987302988\n",
            "Repetition 108: x = [-0.45002057  4.58521443] f(x) = 0.3699665295467982\n",
            "Repetition 109: x = [-0.45565591  4.58343327] f(x) = 0.3678976172133333\n",
            "Repetition 110: x = [-0.46129256  4.58164967] f(x) = 0.36583232046904884\n",
            "Repetition 111: x = [-0.46693051  4.57986365] f(x) = 0.3637705578654507\n",
            "Repetition 112: x = [-0.47256976  4.57807518] f(x) = 0.3617124100911199\n",
            "Repetition 113: x = [-0.47821032  4.57628427] f(x) = 0.35965784922553856\n",
            "Repetition 114: x = [-0.48385219  4.5744909 ] f(x) = 0.3576069200173952\n",
            "Repetition 115: x = [-0.48949538  4.57269506] f(x) = 0.35555961913092804\n",
            "Repetition 116: x = [-0.49513988  4.57089674] f(x) = 0.35351597517299016\n",
            "Repetition 117: x = [-0.5007857   4.56909593] f(x) = 0.35147599593259005\n",
            "Repetition 118: x = [-0.50643284  4.56729262] f(x) = 0.34943970298734717\n",
            "Repetition 119: x = [-0.51208132  4.56548681] f(x) = 0.34740710912539075\n",
            "Repetition 120: x = [-0.51773111  4.56367848] f(x) = 0.34537823300134357\n",
            "Repetition 121: x = [-0.52338224  4.56186763] f(x) = 0.3433530896755387\n",
            "Repetition 122: x = [-0.52903471  4.56005424] f(x) = 0.34133169669151064\n",
            "Repetition 123: x = [-0.53468851  4.5582383 ] f(x) = 0.3393140701953525\n",
            "Repetition 124: x = [-0.54034365  4.55641981] f(x) = 0.3373002274030632\n",
            "Repetition 125: x = [-0.54600014  4.55459875] f(x) = 0.33529018504295943\n",
            "Repetition 126: x = [-0.55165797  4.55277512] f(x) = 0.3332839603363674\n",
            "Repetition 127: x = [-0.55731715  4.5509489 ] f(x) = 0.331281570386298\n",
            "Repetition 128: x = [-0.56297769  4.54912009] f(x) = 0.3292830325592094\n",
            "Repetition 129: x = [-0.56863958  4.54728867] f(x) = 0.3272883642507327\n",
            "Repetition 130: x = [-0.57430282  4.54545463] f(x) = 0.32529758303145495\n",
            "Repetition 131: x = [-0.57996743  4.54361797] f(x) = 0.32331070655957245\n",
            "Repetition 132: x = [-0.58563341  4.54177867] f(x) = 0.3213277526357746\n",
            "Repetition 133: x = [-0.59130075  4.53993672] f(x) = 0.3193487391718778\n",
            "Repetition 134: x = [-0.59696946  4.53809211] f(x) = 0.3173736842114993\n",
            "Repetition 135: x = [-0.60263954  4.53624484] f(x) = 0.31540260591953473\n",
            "Repetition 136: x = [-0.60831101  4.53439489] f(x) = 0.31343552259028845\n",
            "Repetition 137: x = [-0.61398385  4.53254224] f(x) = 0.3114724526445226\n",
            "Repetition 138: x = [-0.61965807  4.5306869 ] f(x) = 0.30951341463309384\n",
            "Repetition 139: x = [-0.62533368  4.52882884] f(x) = 0.3075584272367505\n",
            "Repetition 140: x = [-0.63101068  4.52696807] f(x) = 0.30560750926815544\n",
            "Repetition 141: x = [-0.63668907  4.52510456] f(x) = 0.30366067967268706\n",
            "Repetition 142: x = [-0.64236886  4.5232383 ] f(x) = 0.3017179575299457\n",
            "Repetition 143: x = [-0.64805005  4.52136929] f(x) = 0.29977936205486283\n",
            "Repetition 144: x = [-0.65373263  4.51949751] f(x) = 0.2978449125990955\n",
            "Repetition 145: x = [-0.65941663  4.51762295] f(x) = 0.2959146286522444\n",
            "Repetition 146: x = [-0.66510203  4.51574561] f(x) = 0.2939885298432442\n",
            "Repetition 147: x = [-0.67078884  4.51386546] f(x) = 0.2920666359416175\n",
            "Repetition 148: x = [-0.67647706  4.5119825 ] f(x) = 0.29014896685889013\n",
            "Repetition 149: x = [-0.68216671  4.51009671] f(x) = 0.28823554264991097\n",
            "Repetition 150: x = [-0.68785777  4.50820809] f(x) = 0.28632638351424394\n",
            "Repetition 151: x = [-0.69355026  4.50631662] f(x) = 0.2844215097975634\n",
            "Repetition 152: x = [-0.69924417  4.5044223 ] f(x) = 0.2825209419930805\n",
            "Repetition 153: x = [-0.70493952  4.5025251 ] f(x) = 0.28062470074293683\n",
            "Repetition 154: x = [-0.7106363   4.50062501] f(x) = 0.27873280683969787\n",
            "Repetition 155: x = [-0.71633452  4.49872204] f(x) = 0.2768452812277675\n",
            "Repetition 156: x = [-0.72203417  4.49681615] f(x) = 0.27496214500492494\n",
            "Repetition 157: x = [-0.72773527  4.49490735] f(x) = 0.2730834194237726\n",
            "Repetition 158: x = [-0.73343782  4.49299561] f(x) = 0.27120912589329305\n",
            "Repetition 159: x = [-0.73914182  4.49108093] f(x) = 0.26933928598035745\n",
            "Repetition 160: x = [-0.74484727  4.48916329] f(x) = 0.2674739214113102\n",
            "Repetition 161: x = [-0.75055417  4.48724268] f(x) = 0.26561305407351793\n",
            "Repetition 162: x = [-0.75626254  4.48531909] f(x) = 0.26375670601698087\n",
            "Repetition 163: x = [-0.76197237  4.4833925 ] f(x) = 0.26190489945593565\n",
            "Repetition 164: x = [-0.76768367  4.48146291] f(x) = 0.2600576567705023\n",
            "Repetition 165: x = [-0.77339643  4.47953029] f(x) = 0.2582150005083209\n",
            "Repetition 166: x = [-0.77911067  4.47759464] f(x) = 0.2563769533862453\n",
            "Repetition 167: x = [-0.78482639  4.47565595] f(x) = 0.25454353829203225\n",
            "Repetition 168: x = [-0.79054359  4.47371419] f(x) = 0.2527147782860417\n",
            "Repetition 169: x = [-0.79626227  4.47176936] f(x) = 0.25089069660300795\n",
            "Repetition 170: x = [-0.80198243  4.46982145] f(x) = 0.24907131665377438\n",
            "Repetition 171: x = [-0.80770409  4.46787043] f(x) = 0.24725666202708008\n",
            "Repetition 172: x = [-0.81342724  4.4659163 ] f(x) = 0.24544675649137515\n",
            "Repetition 173: x = [-0.81915189  4.46395905] f(x) = 0.2436416239966322\n",
            "Repetition 174: x = [-0.82487803  4.46199865] f(x) = 0.24184128867622529\n",
            "Repetition 175: x = [-0.83060568  4.4600351 ] f(x) = 0.2400457748487613\n",
            "Repetition 176: x = [-0.83633484  4.45806837] f(x) = 0.23825510702002742\n",
            "Repetition 177: x = [-0.84206551  4.45609847] f(x) = 0.23646930988486867\n",
            "Repetition 178: x = [-0.8477977   4.45412537] f(x) = 0.23468840832916846\n",
            "Repetition 179: x = [-0.8535314   4.45214906] f(x) = 0.2329124274318064\n",
            "Repetition 180: x = [-0.85926662  4.45016952] f(x) = 0.23114139246664944\n",
            "Repetition 181: x = [-0.86500337  4.44818674] f(x) = 0.22937532890459833\n",
            "Repetition 182: x = [-0.87074164  4.44620071] f(x) = 0.2276142624156018\n",
            "Repetition 183: x = [-0.87648145  4.4442114 ] f(x) = 0.22585821887077526\n",
            "Repetition 184: x = [-0.88222279  4.44221882] f(x) = 0.22410722434446237\n",
            "Repetition 185: x = [-0.88796567  4.44022293] f(x) = 0.22236130511639643\n",
            "Repetition 186: x = [-0.89371009  4.43822373] f(x) = 0.2206204876738372\n",
            "Repetition 187: x = [-0.89945605  4.4362212 ] f(x) = 0.21888479871377772\n",
            "Repetition 188: x = [-0.90520357  4.43421533] f(x) = 0.2171542651451359\n",
            "Repetition 189: x = [-0.91095264  4.4322061 ] f(x) = 0.21542891409102108\n",
            "Repetition 190: x = [-0.91670326  4.43019349] f(x) = 0.2137087728909892\n",
            "Repetition 191: x = [-0.92245545  4.42817749] f(x) = 0.21199386910337026\n",
            "Repetition 192: x = [-0.92820919  4.42615809] f(x) = 0.21028423050756445\n",
            "Repetition 193: x = [-0.93396451  4.42413526] f(x) = 0.20857988510645134\n",
            "Repetition 194: x = [-0.93972139  4.422109  ] f(x) = 0.20688086112875753\n",
            "Repetition 195: x = [-0.94547985  4.42007928] f(x) = 0.20518718703149497\n",
            "Repetition 196: x = [-0.95123989  4.4180461 ] f(x) = 0.20349889150242817\n",
            "Repetition 197: x = [-0.95700151  4.41600942] f(x) = 0.20181600346254602\n",
            "Repetition 198: x = [-0.96276471  4.41396925] f(x) = 0.20013855206862366\n",
            "Repetition 199: x = [-0.9685295   4.41192556] f(x) = 0.19846656671575807\n",
            "Repetition 200: x = [-0.97429588  4.40987833] f(x) = 0.19680007703997443\n",
            "Repetition 201: x = [-0.98006386  4.40782755] f(x) = 0.1951391129208613\n",
            "Repetition 202: x = [-0.98583344  4.4057732 ] f(x) = 0.19348370448422364\n",
            "Repetition 203: x = [-0.99160462  4.40371526] f(x) = 0.191833882104812\n",
            "Repetition 204: x = [-0.9973774   4.40165372] f(x) = 0.1901896764090411\n",
            "Repetition 205: x = [-1.0031518   4.39958856] f(x) = 0.18855111827777235\n",
            "Repetition 206: x = [-1.00892781  4.39751976] f(x) = 0.18691823884914363\n",
            "Repetition 207: x = [-1.01470544  4.39544731] f(x) = 0.18529106952140603\n",
            "Repetition 208: x = [-1.02048468  4.39337118] f(x) = 0.18366964195583813\n",
            "Repetition 209: x = [-1.02626556  4.39129137] f(x) = 0.1820539880796607\n",
            "Repetition 210: x = [-1.03204806  4.38920784] f(x) = 0.18044414008903117\n",
            "Repetition 211: x = [-1.03783219  4.38712059] f(x) = 0.1788401304520502\n",
            "Repetition 212: x = [-1.04361796  4.38502959] f(x) = 0.17724199191181728\n",
            "Repetition 213: x = [-1.04940537  4.38293484] f(x) = 0.17564975748954237\n",
            "Repetition 214: x = [-1.05519442  4.38083629] f(x) = 0.17406346048769256\n",
            "Repetition 215: x = [-1.06098512  4.37873395] f(x) = 0.1724831344931626\n",
            "Repetition 216: x = [-1.06677747  4.37662779] f(x) = 0.17090881338053215\n",
            "Repetition 217: x = [-1.07257148  4.3745178 ] f(x) = 0.16934053131534046\n",
            "Repetition 218: x = [-1.07836714  4.37240394] f(x) = 0.16777832275739452\n",
            "Repetition 219: x = [-1.08416446  4.37028621] f(x) = 0.16622222246417598\n",
            "Repetition 220: x = [-1.08996345  4.36816458] f(x) = 0.1646722654942325\n",
            "Repetition 221: x = [-1.09576411  4.36603904] f(x) = 0.1631284872106675\n",
            "Repetition 222: x = [-1.10156644  4.36390957] f(x) = 0.16159092328464514\n",
            "Repetition 223: x = [-1.10737045  4.36177613] f(x) = 0.16005960969899077\n",
            "Repetition 224: x = [-1.11317613  4.35963873] f(x) = 0.158534582751768\n",
            "Repetition 225: x = [-1.11898351  4.35749733] f(x) = 0.1570158790600014\n",
            "Repetition 226: x = [-1.12479256  4.35535191] f(x) = 0.1555035355633702\n",
            "Repetition 227: x = [-1.13060331  4.35320246] f(x) = 0.15399758952800413\n",
            "Repetition 228: x = [-1.13641576  4.35104896] f(x) = 0.1524980785503232\n",
            "Repetition 229: x = [-1.14222991  4.34889137] f(x) = 0.15100504056092384\n",
            "Repetition 230: x = [-1.14804575  4.34672969] f(x) = 0.14951851382852835\n",
            "Repetition 231: x = [-1.15386331  4.34456389] f(x) = 0.14803853696400604\n",
            "Repetition 232: x = [-1.15968257  4.34239395] f(x) = 0.1465651489244266\n",
            "Repetition 233: x = [-1.16550355  4.34021985] f(x) = 0.14509838901718403\n",
            "Repetition 234: x = [-1.17132624  4.33804156] f(x) = 0.14363829690420574\n",
            "Repetition 235: x = [-1.17715066  4.33585907] f(x) = 0.14218491260617971\n",
            "Repetition 236: x = [-1.1829768   4.33367235] f(x) = 0.14073827650687903\n",
            "Repetition 237: x = [-1.18880467  4.33148138] f(x) = 0.1392984293575433\n",
            "Repetition 238: x = [-1.19463428  4.32928614] f(x) = 0.1378654122813083\n",
            "Repetition 239: x = [-1.20046562  4.3270866 ] f(x) = 0.13643926677773388\n",
            "Repetition 240: x = [-1.2062987   4.32488275] f(x) = 0.13502003472736346\n",
            "Repetition 241: x = [-1.21213352  4.32267456] f(x) = 0.1336077583963824\n",
            "Repetition 242: x = [-1.21797009  4.320462  ] f(x) = 0.132202480441337\n",
            "Repetition 243: x = [-1.22380842  4.31824505] f(x) = 0.13080424391391102\n",
            "Repetition 244: x = [-1.22964849  4.3160237 ] f(x) = 0.12941309226579742\n",
            "Repetition 245: x = [-1.23549033  4.31379791] f(x) = 0.1280290693536288\n",
            "Repetition 246: x = [-1.24133393  4.31156766] f(x) = 0.12665221944398858\n",
            "Repetition 247: x = [-1.24717929  4.30933293] f(x) = 0.12528258721850594\n",
            "Repetition 248: x = [-1.25302643  4.30709369] f(x) = 0.12392021777901271\n",
            "Repetition 249: x = [-1.25887534  4.30484992] f(x) = 0.12256515665278904\n",
            "Repetition 250: x = [-1.26472602  4.30260159] f(x) = 0.12121744979789523\n",
            "Repetition 251: x = [-1.27057849  4.30034869] f(x) = 0.11987714360858139\n",
            "Repetition 252: x = [-1.27643274  4.29809117] f(x) = 0.1185442849207822\n",
            "Repetition 253: x = [-1.28228878  4.29582902] f(x) = 0.11721892101767739\n",
            "Repetition 254: x = [-1.28814661  4.29356222] f(x) = 0.11590109963539597\n",
            "Repetition 255: x = [-1.29400624  4.29129073] f(x) = 0.11459086896872848\n",
            "Repetition 256: x = [-1.29986766  4.28901453] f(x) = 0.11328827767700354\n",
            "Repetition 257: x = [-1.30573089  4.2867336 ] f(x) = 0.11199337489001959\n",
            "Repetition 258: x = [-1.31159593  4.2844479 ] f(x) = 0.11070621021406342\n",
            "Repetition 259: x = [-1.31746277  4.28215741] f(x) = 0.10942683373805172\n",
            "Repetition 260: x = [-1.32333143  4.2798621 ] f(x) = 0.10815529603975789\n",
            "Repetition 261: x = [-1.32920191  4.27756195] f(x) = 0.10689164819211651\n",
            "Repetition 262: x = [-1.33507421  4.27525693] f(x) = 0.10563594176968066\n",
            "Repetition 263: x = [-1.34094833  4.27294701] f(x) = 0.1043882288551217\n",
            "Repetition 264: x = [-1.34682428  4.27063216] f(x) = 0.10314856204587625\n",
            "Repetition 265: x = [-1.35270207  4.26831236] f(x) = 0.10191699446089127\n",
            "Repetition 266: x = [-1.35858168  4.26598757] f(x) = 0.1006935797474699\n",
            "Repetition 267: x = [-1.36446314  4.26365776] f(x) = 0.09947837208822008\n",
            "Repetition 268: x = [-1.37034644  4.26132292] f(x) = 0.09827142620815293\n",
            "Repetition 269: x = [-1.37623158  4.258983  ] f(x) = 0.09707279738185944\n",
            "Repetition 270: x = [-1.38211858  4.25663798] f(x) = 0.09588254144082073\n",
            "Repetition 271: x = [-1.38800742  4.25428783] f(x) = 0.09470071478082755\n",
            "Repetition 272: x = [-1.39389813  4.25193251] f(x) = 0.09352737436955677\n",
            "Repetition 273: x = [-1.39979069  4.24957201] f(x) = 0.0923625777542102\n",
            "Repetition 274: x = [-1.40568511  4.24720628] f(x) = 0.09120638306934797\n",
            "Repetition 275: x = [-1.4115814   4.24483529] f(x) = 0.09005884904481079\n",
            "Repetition 276: x = [-1.41747957  4.24245902] f(x) = 0.08892003501377033\n",
            "Repetition 277: x = [-1.4233796   4.24007743] f(x) = 0.08779000092095766\n",
            "Repetition 278: x = [-1.42928151  4.2376905 ] f(x) = 0.08666880733096782\n",
            "Repetition 279: x = [-1.4351853   4.23529818] f(x) = 0.08555651543676297\n",
            "Repetition 280: x = [-1.44109097  4.23290045] f(x) = 0.0844531870682807\n",
            "Repetition 281: x = [-1.44699853  4.23049727] f(x) = 0.0833588847011997\n",
            "Repetition 282: x = [-1.45290798  4.22808861] f(x) = 0.08227367146585715\n",
            "Repetition 283: x = [-1.45881932  4.22567443] f(x) = 0.08119761115631247\n",
            "Repetition 284: x = [-1.46473256  4.22325471] f(x) = 0.08013076823957282\n",
            "Repetition 285: x = [-1.47064769  4.22082941] f(x) = 0.07907320786497499\n",
            "Repetition 286: x = [-1.47656473  4.21839849] f(x) = 0.07802499587371597\n",
            "Repetition 287: x = [-1.48248367  4.21596192] f(x) = 0.07698619880856408\n",
            "Repetition 288: x = [-1.48840452  4.21351966] f(x) = 0.07595688392372796\n",
            "Repetition 289: x = [-1.49432728  4.21107168] f(x) = 0.07493711919491261\n",
            "Repetition 290: x = [-1.50025195  4.20861794] f(x) = 0.07392697332951831\n",
            "Repetition 291: x = [-1.50617854  4.20615841] f(x) = 0.072926515777055\n",
            "Repetition 292: x = [-1.51210705  4.20369305] f(x) = 0.07193581673970603\n",
            "Repetition 293: x = [-1.51803748  4.20122182] f(x) = 0.07095494718310319\n",
            "Repetition 294: x = [-1.52396984  4.19874469] f(x) = 0.06998397884727287\n",
            "Repetition 295: x = [-1.52990412  4.19626161] f(x) = 0.06902298425779416\n",
            "Repetition 296: x = [-1.53584033  4.19377255] f(x) = 0.0680720367371252\n",
            "Repetition 297: x = [-1.54177848  4.19127748] f(x) = 0.06713121041616238\n",
            "Repetition 298: x = [-1.54771856  4.18877634] f(x) = 0.0662005802459966\n",
            "Repetition 299: x = [-1.55366059  4.18626911] f(x) = 0.06528022200985363\n",
            "Repetition 300: x = [-1.55960455  4.18375574] f(x) = 0.06437021233529365\n",
            "Repetition 301: x = [-1.56555045  4.1812362 ] f(x) = 0.06347062870658692\n",
            "Repetition 302: x = [-1.5714983   4.17871043] f(x) = 0.06258154947735395\n",
            "Repetition 303: x = [-1.5774481   4.17617841] f(x) = 0.06170305388338943\n",
            "Repetition 304: x = [-1.58339985  4.17364009] f(x) = 0.060835222055752036\n",
            "Repetition 305: x = [-1.58935355  4.17109543] f(x) = 0.059978135034089955\n",
            "Repetition 306: x = [-1.59530921  4.16854439] f(x) = 0.059131874780193064\n",
            "Repetition 307: x = [-1.60126682  4.16598692] f(x) = 0.05829652419179944\n",
            "Repetition 308: x = [-1.60722639  4.16342298] f(x) = 0.05747216711667469\n",
            "Repetition 309: x = [-1.61318792  4.16085252] f(x) = 0.05665888836691574\n",
            "Repetition 310: x = [-1.61915141  4.15827551] f(x) = 0.05585677373355816\n",
            "Repetition 311: x = [-1.62511686  4.1556919 ] f(x) = 0.05506591000141384\n",
            "Repetition 312: x = [-1.63108429  4.15310165] f(x) = 0.05428638496421814\n",
            "Repetition 313: x = [-1.63705368  4.1505047 ] f(x) = 0.053518287440053366\n",
            "Repetition 314: x = [-1.64302504  4.14790102] f(x) = 0.052761707287037954\n",
            "Repetition 315: x = [-1.64899836  4.14529055] f(x) = 0.0520167354193401\n",
            "Repetition 316: x = [-1.65497366  4.14267325] f(x) = 0.05128346382347253\n",
            "Repetition 317: x = [-1.66095094  4.14004908] f(x) = 0.05056198557491147\n",
            "Repetition 318: x = [-1.66693019  4.13741798] f(x) = 0.04985239485501329\n",
            "Repetition 319: x = [-1.67291141  4.1347799 ] f(x) = 0.049154786968272524\n",
            "Repetition 320: x = [-1.67889461  4.13213481] f(x) = 0.04846925835988512\n",
            "Repetition 321: x = [-1.68487979  4.12948264] f(x) = 0.04779590663367192\n",
            "Repetition 322: x = [-1.69086694  4.12682335] f(x) = 0.04713483057033105\n",
            "Repetition 323: x = [-1.69685608  4.12415688] f(x) = 0.04648613014604785\n",
            "Repetition 324: x = [-1.70284719  4.1214832 ] f(x) = 0.04584990655146074\n",
            "Repetition 325: x = [-1.70884029  4.11880223] f(x) = 0.0452262622110041\n",
            "Repetition 326: x = [-1.71483536  4.11611394] f(x) = 0.044615300802603126\n",
            "Repetition 327: x = [-1.72083242  4.11341827] f(x) = 0.0440171272777946\n",
            "Repetition 328: x = [-1.72683145  4.11071516] f(x) = 0.04343184788219654\n",
            "Repetition 329: x = [-1.73283247  4.10800457] f(x) = 0.0428595701764006\n",
            "Repetition 330: x = [-1.73883547  4.10528643] f(x) = 0.042300403057289104\n",
            "Repetition 331: x = [-1.74484045  4.1025607 ] f(x) = 0.04175445677974545\n",
            "Repetition 332: x = [-1.7508474   4.09982731] f(x) = 0.041221842978815156\n",
            "Repetition 333: x = [-1.75685634  4.09708621] f(x) = 0.04070267469229272\n",
            "Repetition 334: x = [-1.76286726  4.09433734] f(x) = 0.04019706638377762\n",
            "Repetition 335: x = [-1.76888015  4.09158065] f(x) = 0.0397051339661676\n",
            "Repetition 336: x = [-1.77489503  4.08881607] f(x) = 0.039226994825648155\n",
            "Repetition 337: x = [-1.78091188  4.08604355] f(x) = 0.03876276784614567\n",
            "Repetition 338: x = [-1.7869307   4.08326303] f(x) = 0.03831257343428506\n",
            "Repetition 339: x = [-1.7929515   4.08047445] f(x) = 0.03787653354484573\n",
            "Repetition 340: x = [-1.79897426  4.07767773] f(x) = 0.03745477170673917\n",
            "Repetition 341: x = [-1.804999    4.07487284] f(x) = 0.03704741304952176\n",
            "Repetition 342: x = [-1.81102571  4.07205969] f(x) = 0.0366545843304331\n",
            "Repetition 343: x = [-1.81705438  4.06923823] f(x) = 0.03627641396201521\n",
            "Repetition 344: x = [-1.82308502  4.06640839] f(x) = 0.03591303204026193\n",
            "Repetition 345: x = [-1.82911761  4.06357011] f(x) = 0.03556457037339106\n",
            "Repetition 346: x = [-1.83515217  4.06072332] f(x) = 0.035231162511186846\n",
            "Repetition 347: x = [-1.84118868  4.05786795] f(x) = 0.03491294377495264\n",
            "Repetition 348: x = [-1.84722714  4.05500395] f(x) = 0.034610051288096695\n",
            "Repetition 349: x = [-1.85326755  4.05213123] f(x) = 0.034322624007363446\n",
            "Repetition 350: x = [-1.8593099   4.04924973] f(x) = 0.03405080275469347\n",
            "Repetition 351: x = [-1.8653542   4.04635938] f(x) = 0.033794730249772684\n",
            "Repetition 352: x = [-1.87140043  4.04346012] f(x) = 0.03355455114328121\n",
            "Repetition 353: x = [-1.87744859  4.04055186] f(x) = 0.03333041205081001\n",
            "Repetition 354: x = [-1.88349869  4.03763453] f(x) = 0.03312246158752851\n",
            "Repetition 355: x = [-1.8895507   4.03470807] f(x) = 0.03293085040357777\n",
            "Repetition 356: x = [-1.89560463  4.0317724 ] f(x) = 0.03275573122022327\n",
            "Repetition 357: x = [-1.90166048  4.02882743] f(x) = 0.03259725886677217\n",
            "Repetition 358: x = [-1.90771823  4.02587311] f(x) = 0.03245559031830429\n",
            "Repetition 359: x = [-1.91377788  4.02290934] f(x) = 0.03233088473419034\n",
            "Repetition 360: x = [-1.91983943  4.01993606] f(x) = 0.03222330349747069\n",
            "Repetition 361: x = [-1.92590286  4.01695317] f(x) = 0.032133010255060344\n",
            "Repetition 362: x = [-1.93196818  4.01396061] f(x) = 0.032060170958853766\n",
            "Repetition 363: x = [-1.93803537  4.01095829] f(x) = 0.03200495390770985\n",
            "Repetition 364: x = [-1.94410442  4.00794612] f(x) = 0.03196752979036033\n",
            "Repetition 365: x = [-1.95017533  4.00492403] f(x) = 0.03194807172925909\n",
            "Repetition 366: x = [-1.95624809  4.00189193] f(x) = 0.03194675532540949\n",
            "Repetition 367: x = [-1.96232269  3.99884974] f(x) = 0.03196375870414788\n",
            "Repetition 368: x = [-1.96839912  3.99579736] f(x) = 0.03199926256198255\n",
            "Repetition 369: x = [-1.97447737  3.99273471] f(x) = 0.03205345021444558\n",
            "Repetition 370: x = [-1.98055743  3.98966171] f(x) = 0.03212650764501414\n",
            "Repetition 371: x = [-1.9866393   3.98657826] f(x) = 0.032218623555135203\n",
            "Repetition 372: x = [-1.99272295  3.98348427] f(x) = 0.032329989415358765\n",
            "Repetition 373: x = [-1.99880839  3.98037964] f(x) = 0.032460799517627696\n",
            "Repetition 374: x = [-2.00489559  3.97726429] f(x) = 0.03261125102873912\n",
            "Repetition 375: x = [-2.01098454  3.97413812] f(x) = 0.032781544045018804\n",
            "Repetition 376: x = [-2.01707524  3.97100103] f(x) = 0.032971881648232254\n",
            "Repetition 377: x = [-2.02316767  3.96785293] f(x) = 0.03318246996276264\n",
            "Repetition 378: x = [-2.02926181  3.96469371] f(x) = 0.033413518214098326\n",
            "Repetition 379: x = [-2.03535765  3.96152328] f(x) = 0.0336652387886433\n",
            "Repetition 380: x = [-2.04145518  3.95834154] f(x) = 0.033937847294917584\n"
          ],
          "name": "stdout"
        },
        {
          "output_type": "execute_result",
          "data": {
            "text/plain": [
              "Text(0, 0.5, 'f2(x)')"
            ]
          },
          "metadata": {
            "tags": []
          },
          "execution_count": 20
        },
        {
          "output_type": "display_data",
          "data": {
            "image/png": "[encoded data removed]",
            "text/plain": [
              "<Figure size 432x288 with 1 Axes>"
            ]
          },
          "metadata": {
            "tags": [],
            "needs_background": "light"
          }
        }
      ]
    },
    {
      "cell_type": "markdown",
      "metadata": {
        "id": "AiMRiuhPuEOm"
      },
      "source": [
        "Παρατηρούμε ότι ο ρυθμός σύγκλισης έγινε πιο αργός, και ότι ισχύει το ίδιο πρόβλημα με πρίν με αύξηση σφάλματος μετά από πτωτικούς ρυθμούς. Παρόλα αυτά όμως με αυτές τις τιμές παίρνουμε ικανοποιητικές προσεγγίσεις του ολικού ελαχίστου."
      ]
    },
    {
      "cell_type": "markdown",
      "metadata": {
        "id": "x5NdGSUiu0kT"
      },
      "source": [
        "Γενικότερα, όσο αυξάνουμε το learning rate, τόσο ανόμαλη γίνεται η σύγκλιση και ειδικά σε \"παράξενες\" συναρτήσεις σαν την $f_2(x)$, και όσο το μειώνουμε τόσο πιο αργή γίνεται η σύγκλιση. Επιπλέον, η επιλογή του πλήθους των επαναλήψεων, συνδέεται έμμεσα και με το learning rate, καθώς όσο μικρότερο γίνεται, τόσο περισσότερες επαναλήψεις χρειαζόμαστε για να φτάσουμε σε μια ικανοποιητική λύση. Όμως δεν πρέπει να το παρακάνουμε, διότι υπάρχει πιθανότητα να εμφανιστούν και φαινόμενα \"αναπήδησης\" όπως το προηγούμενο."
      ]
    },
    {
      "cell_type": "markdown",
      "metadata": {
        "id": "ImbyRKvuv145"
      },
      "source": [
        "Ας εκτελέσουμε για άλλη μια φορά τον αλγόριθμο στην $f_1(x)$ με διαφορετικές για να επιβεβαιώσουμε τα παραπάνω:"
      ]
    },
    {
      "cell_type": "code",
      "metadata": {
        "colab": {
          "base_uri": "https://localhost:8080/",
          "height": 466
        },
        "id": "BoAMMW7zub1T",
        "outputId": "7aafdb58-31db-4f44-c425-92c1d1fdb91c"
      },
      "source": [
        "x = np.zeros((2,))\n",
        "rep, f1vals = gradient_descent(f1,gradf1,x,learning_rate=0.3)\n",
        "plt.plot(rep, f1vals)\n",
        "plt.xlabel(\"Repetitions\")\n",
        "plt.ylabel(\"f1(x)\")"
      ],
      "execution_count": 21,
      "outputs": [
        {
          "output_type": "stream",
          "text": [
            "Repetition 1: x = [0. 0.] f(x) = 13.0\n",
            "Repetition 2: x = [1.2 1.8] f(x) = 2.0800000000000005\n",
            "Repetition 3: x = [1.68 2.52] f(x) = 0.33280000000000004\n",
            "Repetition 4: x = [1.872 2.808] f(x) = 0.053248000000000094\n",
            "Repetition 5: x = [1.9488 2.9232] f(x) = 0.00851968000000001\n",
            "Repetition 6: x = [1.97952 2.96928] f(x) = 0.0013631488000000072\n",
            "Repetition 7: x = [1.991808 2.987712] f(x) = 0.00021810380799999605\n",
            "Repetition 8: x = [1.9967232 2.9950848] f(x) = 3.4896609280001694e-05\n",
            "Repetition 9: x = [1.99868928 2.99803392] f(x) = 5.583457484799456e-06\n",
            "Repetition 10: x = [1.99947571 2.99921357] f(x) = 8.933531975679597e-07\n"
          ],
          "name": "stdout"
        },
        {
          "output_type": "execute_result",
          "data": {
            "text/plain": [
              "Text(0, 0.5, 'f1(x)')"
            ]
          },
          "metadata": {
            "tags": []
          },
          "execution_count": 21
        },
        {
          "output_type": "display_data",
          "data": {
            "image/png": "[encoded data removed]",
            "text/plain": [
              "<Figure size 432x288 with 1 Axes>"
            ]
          },
          "metadata": {
            "tags": [],
            "needs_background": "light"
          }
        }
      ]
    },
    {
      "cell_type": "code",
      "metadata": {
        "colab": {
          "base_uri": "https://localhost:8080/",
          "height": 466
        },
        "id": "wexJaCeHwTXW",
        "outputId": "c28272e7-24a9-4457-def8-1413dd2f1679"
      },
      "source": [
        "x = np.zeros((2,))\n",
        "rep, f1vals = gradient_descent(f1,gradf1,x,learning_rate=0.1)\n",
        "plt.plot(rep, f1vals)\n",
        "plt.xlabel(\"Repetitions\")\n",
        "plt.ylabel(\"f1(x)\")"
      ],
      "execution_count": 22,
      "outputs": [
        {
          "output_type": "stream",
          "text": [
            "Repetition 1: x = [0. 0.] f(x) = 13.0\n",
            "Repetition 2: x = [0.4 0.6] f(x) = 8.32\n",
            "Repetition 3: x = [0.72 1.08] f(x) = 5.3248\n",
            "Repetition 4: x = [0.976 1.464] f(x) = 3.4078720000000002\n",
            "Repetition 5: x = [1.1808 1.7712] f(x) = 2.18103808\n",
            "Repetition 6: x = [1.34464 2.01696] f(x) = 1.3958643711999998\n",
            "Repetition 7: x = [1.475712 2.213568] f(x) = 0.893353197568\n",
            "Repetition 8: x = [1.5805696 2.3708544] f(x) = 0.5717460464435202\n",
            "Repetition 9: x = [1.66445568 2.49668352] f(x) = 0.3659174697238528\n",
            "Repetition 10: x = [1.73156454 2.59734682] f(x) = 0.23418718062326582\n"
          ],
          "name": "stdout"
        },
        {
          "output_type": "execute_result",
          "data": {
            "text/plain": [
              "Text(0, 0.5, 'f1(x)')"
            ]
          },
          "metadata": {
            "tags": []
          },
          "execution_count": 22
        },
        {
          "output_type": "display_data",
          "data": {
            "image/png": "[encoded data removed]",
            "text/plain": [
              "<Figure size 432x288 with 1 Axes>"
            ]
          },
          "metadata": {
            "tags": [],
            "needs_background": "light"
          }
        }
      ]
    },
    {
      "cell_type": "code",
      "metadata": {
        "colab": {
          "base_uri": "https://localhost:8080/",
          "height": 806
        },
        "id": "J5YrWl5RwXEG",
        "outputId": "d807ccb5-7685-487b-e57f-75e707b800e5"
      },
      "source": [
        "x = np.zeros((2,))\n",
        "rep, f1vals = gradient_descent(f1,gradf1,x,learning_rate=0.1,reps=30)\n",
        "plt.plot(rep, f1vals)\n",
        "plt.xlabel(\"Repetitions\")\n",
        "plt.ylabel(\"f1(x)\")"
      ],
      "execution_count": 23,
      "outputs": [
        {
          "output_type": "stream",
          "text": [
            "Repetition 1: x = [0. 0.] f(x) = 13.0\n",
            "Repetition 2: x = [0.4 0.6] f(x) = 8.32\n",
            "Repetition 3: x = [0.72 1.08] f(x) = 5.3248\n",
            "Repetition 4: x = [0.976 1.464] f(x) = 3.4078720000000002\n",
            "Repetition 5: x = [1.1808 1.7712] f(x) = 2.18103808\n",
            "Repetition 6: x = [1.34464 2.01696] f(x) = 1.3958643711999998\n",
            "Repetition 7: x = [1.475712 2.213568] f(x) = 0.893353197568\n",
            "Repetition 8: x = [1.5805696 2.3708544] f(x) = 0.5717460464435202\n",
            "Repetition 9: x = [1.66445568 2.49668352] f(x) = 0.3659174697238528\n",
            "Repetition 10: x = [1.73156454 2.59734682] f(x) = 0.23418718062326582\n",
            "Repetition 11: x = [1.78525164 2.67787745] f(x) = 0.14987979559889023\n",
            "Repetition 12: x = [1.82820131 2.74230196] f(x) = 0.09592306918328962\n",
            "Repetition 13: x = [1.86256105 2.79384157] f(x) = 0.06139076427730546\n",
            "Repetition 14: x = [1.89004884 2.83507326] f(x) = 0.039290089137475434\n",
            "Repetition 15: x = [1.91203907 2.8680586 ] f(x) = 0.025145657047984268\n",
            "Repetition 16: x = [1.92963126 2.89444688] f(x) = 0.016093220510709962\n",
            "Repetition 17: x = [1.943705   2.91555751] f(x) = 0.010299661126854336\n",
            "Repetition 18: x = [1.954964   2.93244601] f(x) = 0.006591783121186768\n",
            "Repetition 19: x = [1.9639712 2.9459568] f(x) = 0.004218741197559556\n",
            "Repetition 20: x = [1.97117696 2.95676544] f(x) = 0.0026999943664381136\n",
            "Repetition 21: x = [1.97694157 2.96541235] f(x) = 0.0017279963945203824\n",
            "Repetition 22: x = [1.98155326 2.97232988] f(x) = 0.0011059176924930578\n",
            "Repetition 23: x = [1.9852426  2.97786391] f(x) = 0.0007077873231955466\n",
            "Repetition 24: x = [1.98819408 2.98229113] f(x) = 0.0004529838868451477\n",
            "Repetition 25: x = [1.99055527 2.9858329 ] f(x) = 0.00028990968758090126\n",
            "Repetition 26: x = [1.99244421 2.98866632] f(x) = 0.00018554220005177145\n",
            "Repetition 27: x = [1.99395537 2.99093306] f(x) = 0.00011874700803313318\n",
            "Repetition 28: x = [1.9951643  2.99274645] f(x) = 7.599808514120652e-05\n",
            "Repetition 29: x = [1.99613144 2.99419716] f(x) = 4.8638774490372176e-05\n",
            "Repetition 30: x = [1.99690515 2.99535772] f(x) = 3.112881567383791e-05\n"
          ],
          "name": "stdout"
        },
        {
          "output_type": "execute_result",
          "data": {
            "text/plain": [
              "Text(0, 0.5, 'f1(x)')"
            ]
          },
          "metadata": {
            "tags": []
          },
          "execution_count": 23
        },
        {
          "output_type": "display_data",
          "data": {
            "image/png": "[encoded data removed]",
            "text/plain": [
              "<Figure size 432x288 with 1 Axes>"
            ]
          },
          "metadata": {
            "tags": [],
            "needs_background": "light"
          }
        }
      ]
    },
    {
      "cell_type": "markdown",
      "metadata": {
        "id": "q4wTk9aYw6O8"
      },
      "source": [
        "Παρατηρήστε ότι στην $f_1(x)$ ενώ στην πρώτη εκτέλεση βρήκε αμέσως το ολικό ελάχιστο, όταν μειώσαμε το learning rate μειώθκε και ο ρυθμός σύγκλισης και ισχύουν οι προηγόυμενες παρατηρήσεις."
      ]
    },
    {
      "cell_type": "markdown",
      "metadata": {
        "id": "JZ84QDloxQ4r"
      },
      "source": [
        "Ας δοκιμάσουμε και με μεγαλύτερα learning rate από το αρχικό:"
      ]
    },
    {
      "cell_type": "code",
      "metadata": {
        "colab": {
          "base_uri": "https://localhost:8080/",
          "height": 466
        },
        "id": "fQ28FkNnxhkT",
        "outputId": "1263feff-23d8-4c24-fdf9-eafd5e53b1e1"
      },
      "source": [
        "x = np.zeros((2,))\n",
        "rep, f1vals = gradient_descent(f1,gradf1,x,learning_rate=1.0)\n",
        "plt.plot(rep, f1vals)\n",
        "plt.xlabel(\"Repetitions\")\n",
        "plt.ylabel(\"f1(x)\")"
      ],
      "execution_count": 24,
      "outputs": [
        {
          "output_type": "stream",
          "text": [
            "Repetition 1: x = [0. 0.] f(x) = 13.0\n",
            "Repetition 2: x = [4. 6.] f(x) = 13.0\n",
            "Repetition 3: x = [0. 0.] f(x) = 13.0\n",
            "Repetition 4: x = [4. 6.] f(x) = 13.0\n",
            "Repetition 5: x = [0. 0.] f(x) = 13.0\n",
            "Repetition 6: x = [4. 6.] f(x) = 13.0\n",
            "Repetition 7: x = [0. 0.] f(x) = 13.0\n",
            "Repetition 8: x = [4. 6.] f(x) = 13.0\n",
            "Repetition 9: x = [0. 0.] f(x) = 13.0\n",
            "Repetition 10: x = [4. 6.] f(x) = 13.0\n"
          ],
          "name": "stdout"
        },
        {
          "output_type": "execute_result",
          "data": {
            "text/plain": [
              "Text(0, 0.5, 'f1(x)')"
            ]
          },
          "metadata": {
            "tags": []
          },
          "execution_count": 24
        },
        {
          "output_type": "display_data",
          "data": {
            "image/png": "[encoded data removed]",
            "text/plain": [
              "<Figure size 432x288 with 1 Axes>"
            ]
          },
          "metadata": {
            "tags": [],
            "needs_background": "light"
          }
        }
      ]
    },
    {
      "cell_type": "code",
      "metadata": {
        "colab": {
          "base_uri": "https://localhost:8080/",
          "height": 477
        },
        "id": "PspOaxJExQEz",
        "outputId": "d5494349-b30c-4c4f-b68e-b2efd6e433fe"
      },
      "source": [
        "x = np.zeros((2,))\n",
        "rep, f1vals = gradient_descent(f1,gradf1,x,learning_rate=1.5)\n",
        "plt.plot(rep, f1vals)\n",
        "plt.xlabel(\"Repetitions\")\n",
        "plt.ylabel(\"f1(x)\")"
      ],
      "execution_count": 25,
      "outputs": [
        {
          "output_type": "stream",
          "text": [
            "Repetition 1: x = [0. 0.] f(x) = 13.0\n",
            "Repetition 2: x = [6. 9.] f(x) = 52.0\n",
            "Repetition 3: x = [-6. -9.] f(x) = 208.0\n",
            "Repetition 4: x = [18. 27.] f(x) = 832.0\n",
            "Repetition 5: x = [-30. -45.] f(x) = 3328.0\n",
            "Repetition 6: x = [66. 99.] f(x) = 13312.0\n",
            "Repetition 7: x = [-126. -189.] f(x) = 53248.0\n",
            "Repetition 8: x = [258. 387.] f(x) = 212992.0\n",
            "Repetition 9: x = [-510. -765.] f(x) = 851968.0\n",
            "Repetition 10: x = [1026. 1539.] f(x) = 3407872.0\n"
          ],
          "name": "stdout"
        },
        {
          "output_type": "execute_result",
          "data": {
            "text/plain": [
              "Text(0, 0.5, 'f1(x)')"
            ]
          },
          "metadata": {
            "tags": []
          },
          "execution_count": 25
        },
        {
          "output_type": "display_data",
          "data": {
            "image/png": "[encoded data removed]",
            "text/plain": [
              "<Figure size 432x288 with 1 Axes>"
            ]
          },
          "metadata": {
            "tags": [],
            "needs_background": "light"
          }
        }
      ]
    },
    {
      "cell_type": "markdown",
      "metadata": {
        "id": "ZaG7h3YuxlT7"
      },
      "source": [
        "Παρατηρήστε ότι τα μεγαλύτερα learning rate εμποδίζουν την σύγκλιση, και ειδικά στο τελευταίο πείραμα, όχι μόνο δεν συγκλίνει αλλά αποκλίνει λόγω του ότι αυξάνεται η κλίση σε κάθε επανάληψη αντί να μειώνεται!"
      ]
    }
  ]
}
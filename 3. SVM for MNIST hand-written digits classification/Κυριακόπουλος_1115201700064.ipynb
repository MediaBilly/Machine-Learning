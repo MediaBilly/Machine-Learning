{
  "nbformat": 4,
  "nbformat_minor": 0,
  "metadata": {
    "colab": {
      "name": "HW3.ipynb",
      "provenance": [],
      "collapsed_sections": []
    },
    "kernelspec": {
      "name": "python3",
      "display_name": "Python 3"
    },
    "language_info": {
      "name": "python"
    },
    "accelerator": "GPU"
  },
  "cells": [
    {
      "cell_type": "markdown",
      "metadata": {
        "id": "huExg0qiUuFw"
      },
      "source": [
        "# **Αναγνώριση Προτύπων – Μηχανική Μάθηση Εργασία 3: Support Vector Machines**\n",
        "\n",
        "### Κυριακόπουλος Βασίλειος 1115201700064"
      ]
    },
    {
      "cell_type": "markdown",
      "metadata": {
        "id": "P-qQZ6dzVqKM"
      },
      "source": [
        "**Εισαγωγή απαραίτητων βιβλιοθηκών:**"
      ]
    },
    {
      "cell_type": "code",
      "metadata": {
        "id": "m7yQlEcaVs9U"
      },
      "source": [
        "import numpy as np\n",
        "from keras.datasets import mnist\n",
        "from sklearn.svm import SVC, LinearSVC\n",
        "from sklearn.decomposition import PCA"
      ],
      "execution_count": 1,
      "outputs": []
    },
    {
      "cell_type": "markdown",
      "metadata": {
        "id": "szt6gwfWVJDm"
      },
      "source": [
        "**Φόρτωση MNIST handwritten digits dataset:**"
      ]
    },
    {
      "cell_type": "code",
      "metadata": {
        "id": "7iiyYSqLUje4",
        "colab": {
          "base_uri": "https://localhost:8080/"
        },
        "outputId": "2d3b4045-a7e9-48cf-8d61-82cbab2aa67f"
      },
      "source": [
        "# Load the dataset\n",
        "(X_train, y_train), (X_test, y_test) = mnist.load_data()\n",
        "# Reshape 28 * 28 images to 784 dimensional vectors\n",
        "X_train = X_train.reshape((-1,784)).astype(np.float64)\n",
        "X_test = X_test.reshape((-1,784)).astype(np.float64)\n",
        "# Normalize the data to [0,1] range\n",
        "X_train/=X_train.max()\n",
        "X_test/=X_test.max()"
      ],
      "execution_count": 2,
      "outputs": [
        {
          "output_type": "stream",
          "text": [
            "Downloading data from https://storage.googleapis.com/tensorflow/tf-keras-datasets/mnist.npz\n",
            "11493376/11490434 [==============================] - 0s 0us/step\n",
            "11501568/11490434 [==============================] - 0s 0us/step\n"
          ],
          "name": "stdout"
        }
      ]
    },
    {
      "cell_type": "markdown",
      "metadata": {
        "id": "xAZQqXVTeWQE"
      },
      "source": [
        "**Πειραματισμός με τα SVM στα δεδομένα αρχικής διάστασης:**"
      ]
    },
    {
      "cell_type": "markdown",
      "metadata": {
        "id": "7q6nT8_ERPBS"
      },
      "source": [
        "Θα δοκιμάσω διάφορα kernels και τις αντίστοιχες παραμέτρους τους και αυτό που θα δώσει την καλύτερη απόδοση, θα το χρησιμποιήσω στο επόμενο ζήτημα με την PCA:"
      ]
    },
    {
      "cell_type": "markdown",
      "metadata": {
        "id": "GYgaF6c7e6Wx"
      },
      "source": [
        "Linear kernel:"
      ]
    },
    {
      "cell_type": "code",
      "metadata": {
        "colab": {
          "base_uri": "https://localhost:8080/"
        },
        "id": "xYtYph8gxkmD",
        "outputId": "7261f456-f5c1-4caf-d81b-d6744d359c8a"
      },
      "source": [
        "%%time\n",
        "linsvm = LinearSVC(dual=False,C=1.5)\n",
        "linsvm.fit(X_train,y_train)\n",
        "print(\"Linear kernel original dimension accuracy:\",linsvm.score(X_test,y_test))"
      ],
      "execution_count": 18,
      "outputs": [
        {
          "output_type": "stream",
          "text": [
            "Linear kernel original dimension accuracy: 0.9178\n",
            "CPU times: user 39.2 s, sys: 62 ms, total: 39.3 s\n",
            "Wall time: 39 s\n"
          ],
          "name": "stdout"
        }
      ]
    },
    {
      "cell_type": "markdown",
      "metadata": {
        "id": "4CVJCcLz5UYt"
      },
      "source": [
        "RBF kernel:"
      ]
    },
    {
      "cell_type": "code",
      "metadata": {
        "colab": {
          "base_uri": "https://localhost:8080/"
        },
        "id": "dil2IpfH5V_M",
        "outputId": "5d2b9e8a-4e7a-41c2-a49f-ea5404fbafb3"
      },
      "source": [
        "%%time\n",
        "rbfsvm = SVC(kernel='rbf',C=2.5,gamma='scale')\n",
        "rbfsvm.fit(X_train,y_train)\n",
        "print(\"RBF kernel original dimension accuracy:\",rbfsvm.score(X_test,y_test))"
      ],
      "execution_count": 5,
      "outputs": [
        {
          "output_type": "stream",
          "text": [
            "RBF kernel original dimension accuracy: 0.9835\n",
            "CPU times: user 8min 10s, sys: 487 ms, total: 8min 10s\n",
            "Wall time: 8min 8s\n"
          ],
          "name": "stdout"
        }
      ]
    },
    {
      "cell_type": "markdown",
      "metadata": {
        "id": "rI-z9R6H5dnU"
      },
      "source": [
        "Poly kernel:"
      ]
    },
    {
      "cell_type": "code",
      "metadata": {
        "colab": {
          "base_uri": "https://localhost:8080/"
        },
        "id": "94YIQMaF5fOU",
        "outputId": "2b418dfa-db16-4ef1-f25f-0762cf0fa43a"
      },
      "source": [
        "%%time\n",
        "polysvm = SVC(kernel='poly',C=2.0)\n",
        "polysvm.fit(X_train,y_train)\n",
        "print(\"Poly kernel original dimension accuracy:\",polysvm.score(X_test,y_test))"
      ],
      "execution_count": 17,
      "outputs": [
        {
          "output_type": "stream",
          "text": [
            "Poly kernel original dimension accuracy: 0.9785\n",
            "CPU times: user 7min 43s, sys: 481 ms, total: 7min 43s\n",
            "Wall time: 7min 41s\n"
          ],
          "name": "stdout"
        }
      ]
    },
    {
      "cell_type": "markdown",
      "metadata": {
        "id": "tIvn_fRLRk2W"
      },
      "source": [
        "Μετά από διάφορα πειράματα κατέληξα σε rbf kernel με gamma='scale' \n",
        "(1 / (n_features * X.var())) και C=2.5"
      ]
    },
    {
      "cell_type": "markdown",
      "metadata": {
        "id": "bRqXFxh7Ki5E"
      },
      "source": [
        "**Εφαρμογή PCA:**"
      ]
    },
    {
      "cell_type": "markdown",
      "metadata": {
        "id": "fRz3N6LRnlE5"
      },
      "source": [
        "Θα ορίσω μία συνάρτηση η οποία θα δέχεται σαν παράμετρο το επιθυμητό ποσοστό διατηρούμενης διακύμανσης και θα εκτελεί το αντίστοιχο πείραμα ταξινόμησης με svm (χρησιμοποιώντας τις παραμέτρους που μου έδωσαν το βέλτιστο μοντέλο στα δεδομένα της αρχικής διάστασης) στα δεδομένα μειωμένης διάστασης:"
      ]
    },
    {
      "cell_type": "code",
      "metadata": {
        "id": "iQQp2xZQKld0"
      },
      "source": [
        "def svm_with_pca(explained_variance_ratio=0.85):\n",
        "  pca = PCA(n_components=explained_variance_ratio)\n",
        "  X_train_reduced = pca.fit_transform(X_train)\n",
        "  X_test_reduced = pca.transform(X_test)\n",
        "\n",
        "  rbfsvm = SVC(kernel='rbf',C=2.5,gamma='scale')\n",
        "  rbfsvm.fit(X_train_reduced,y_train)\n",
        "  print(\"Number of components used:\",pca.n_components_)\n",
        "  print(\"RBF kernel reduced dimension accuracy:\",rbfsvm.score(X_test_reduced,y_test))"
      ],
      "execution_count": 11,
      "outputs": []
    },
    {
      "cell_type": "markdown",
      "metadata": {
        "id": "Fj6x5EEcoBVH"
      },
      "source": [
        "Έπειτα, ας εκτελέσουμε 3 πειράματα:\n"
      ]
    },
    {
      "cell_type": "markdown",
      "metadata": {
        "id": "ZEfWGqCopqrx"
      },
      "source": [
        "85% διατηρούμενη διακύμανση:"
      ]
    },
    {
      "cell_type": "code",
      "metadata": {
        "colab": {
          "base_uri": "https://localhost:8080/"
        },
        "id": "0Sk9bu0tngNp",
        "outputId": "7eb92ee3-e521-4427-fa34-b40e79ef99b1"
      },
      "source": [
        "%%time\n",
        "svm_with_pca(explained_variance_ratio=0.85)"
      ],
      "execution_count": 12,
      "outputs": [
        {
          "output_type": "stream",
          "text": [
            "Number of components used: 59\n",
            "RBF kernel reduced dimension accuracy: 0.9859\n",
            "CPU times: user 1min 7s, sys: 1.33 s, total: 1min 8s\n",
            "Wall time: 57.7 s\n"
          ],
          "name": "stdout"
        }
      ]
    },
    {
      "cell_type": "markdown",
      "metadata": {
        "id": "vWRB7mbcObKk"
      },
      "source": [
        "88% διατηρούμενη διακύμανση:"
      ]
    },
    {
      "cell_type": "code",
      "metadata": {
        "colab": {
          "base_uri": "https://localhost:8080/"
        },
        "id": "YWfFDxiWOa6E",
        "outputId": "2d80ff43-406f-4a19-d3e6-8db5982a7f29"
      },
      "source": [
        "%%time\n",
        "svm_with_pca(explained_variance_ratio=0.88)"
      ],
      "execution_count": 13,
      "outputs": [
        {
          "output_type": "stream",
          "text": [
            "Number of components used: 74\n",
            "RBF kernel reduced dimension accuracy: 0.9859\n",
            "CPU times: user 1min 17s, sys: 1.09 s, total: 1min 18s\n",
            "Wall time: 1min 7s\n"
          ],
          "name": "stdout"
        }
      ]
    },
    {
      "cell_type": "markdown",
      "metadata": {
        "id": "uFIr_iFF-CWU"
      },
      "source": [
        "90% διατηρούμενη διακύμανση:"
      ]
    },
    {
      "cell_type": "code",
      "metadata": {
        "colab": {
          "base_uri": "https://localhost:8080/"
        },
        "id": "JMuzs0HE9-7k",
        "outputId": "3125541d-917e-41ba-dcf4-00e2c87798b7"
      },
      "source": [
        "%%time\n",
        "svm_with_pca(explained_variance_ratio=0.90)"
      ],
      "execution_count": 14,
      "outputs": [
        {
          "output_type": "stream",
          "text": [
            "Number of components used: 87\n",
            "RBF kernel reduced dimension accuracy: 0.9853\n",
            "CPU times: user 1min 26s, sys: 1.24 s, total: 1min 28s\n",
            "Wall time: 1min 17s\n"
          ],
          "name": "stdout"
        }
      ]
    },
    {
      "cell_type": "markdown",
      "metadata": {
        "id": "O_4wFPXCimtM"
      },
      "source": [
        "Παρατηρούμε ότι αρχικά με την μείωση των διαστάσεων μειώνονται οι χρόνοι εκτέλεσης των πειραμάτων κατα περίπου 10 φορές το οποίο είναι φυσιολογικό αφού επεξεργαζόμαστε δεδομένα με περίπου υποδεκαπλάσιο πλήθος διαστάσεων. Τώρα όσον αφορά την απόδοση της ταξινόμησης στα δεδομένα μειωμένης διάστασης, εφόσον στα αντίστοιχα πειράμτα επιλέχθηκε το πλήθος της διατηρούμενης διακύμανσης να είναι μεταξύ του θεωρητικού βέλτιστου 85-90%, παρατηρούμε ότι παίρνουμε ακόμα και μεγαλύτερη ακρίβεια ταξινόμησης από τα πειράματα που έγιναν στα δεδομένα αρχικής διάστασης. Αυτό οφείλεται σε 2 παράγοντες:\n",
        "\n",
        "\n",
        "1.   Στο γεγονός ότι επιλέγοντας το πλήθος διατηρούμενης διακύμανσης να είναι   μεταξύ 85% και 90% διατηρείται η περισσότερη χρήσιμη πληροφορία στα δεδομένα μειωμένης διάστασης.\n",
        "2.   Στο γεγονός ότι οι αποστάσεις στους χώρους μειωμένης διάστασης είναι μικρότερες το οποίο συμνεπάγεται ότι μπορούμε να ξεχωρίσουμε τα δεδομένα πιο εύκολα μεταξύ τους. Με άλλα λόγια, ο χώρος μειωμένης διάστασης είναι πιο απλός και δεν ισχύει η κατάρα της διαστατικότητας(curse of dimensionality).\n",
        "\n",
        "Επιπλέον, όπως είναι αναμενόμενο, όσο αυξάνεται το πλήθος των κύριων συνιστωσών τόσο περισσότερο αυξάνεται και ο χρόνος εκτέλεσης του αντίστοιχου πειράματος και αρχίζει να μειώνεται σιγα σιγά και η ακρίβεια ταξινόμησης λόγω όσων ειπώθηκαν παραπάνω στο 2.\n",
        "\n"
      ]
    }
  ]
}